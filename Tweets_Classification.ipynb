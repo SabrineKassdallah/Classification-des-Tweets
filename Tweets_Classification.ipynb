{
 "cells": [
  {
   "cell_type": "markdown",
   "metadata": {
    "papermill": {
     "duration": 0.064453,
     "end_time": "2020-12-15T00:42:49.562230",
     "exception": false,
     "start_time": "2020-12-15T00:42:49.497777",
     "status": "completed"
    },
    "tags": []
   },
   "source": [
    "# install tweepy"
   ]
  },
  {
   "cell_type": "code",
   "execution_count": 1,
   "metadata": {
    "execution": {
     "iopub.execute_input": "2020-12-15T00:42:49.693749Z",
     "iopub.status.busy": "2020-12-15T00:42:49.693097Z",
     "iopub.status.idle": "2020-12-15T00:42:59.200439Z",
     "shell.execute_reply": "2020-12-15T00:42:59.199706Z"
    },
    "papermill": {
     "duration": 9.574687,
     "end_time": "2020-12-15T00:42:59.200575",
     "exception": false,
     "start_time": "2020-12-15T00:42:49.625888",
     "status": "completed"
    },
    "tags": []
   },
   "outputs": [
    {
     "name": "stdout",
     "output_type": "stream",
     "text": [
      "Collecting tweepy\r\n",
      "  Downloading tweepy-3.9.0-py2.py3-none-any.whl (30 kB)\r\n",
      "Requirement already satisfied: six>=1.10.0 in /opt/conda/lib/python3.7/site-packages (from tweepy) (1.14.0)\r\n",
      "Requirement already satisfied: requests-oauthlib>=0.7.0 in /opt/conda/lib/python3.7/site-packages (from tweepy) (1.2.0)\r\n",
      "Requirement already satisfied: requests[socks]>=2.11.1 in /opt/conda/lib/python3.7/site-packages (from tweepy) (2.23.0)\r\n",
      "Requirement already satisfied: requests>=2.0.0 in /opt/conda/lib/python3.7/site-packages (from requests-oauthlib>=0.7.0->tweepy) (2.23.0)\r\n",
      "Requirement already satisfied: oauthlib>=3.0.0 in /opt/conda/lib/python3.7/site-packages (from requests-oauthlib>=0.7.0->tweepy) (3.0.1)\r\n",
      "Requirement already satisfied: certifi>=2017.4.17 in /opt/conda/lib/python3.7/site-packages (from requests>=2.0.0->requests-oauthlib>=0.7.0->tweepy) (2020.12.5)\r\n",
      "Requirement already satisfied: urllib3!=1.25.0,!=1.25.1,<1.26,>=1.21.1 in /opt/conda/lib/python3.7/site-packages (from requests>=2.0.0->requests-oauthlib>=0.7.0->tweepy) (1.25.9)\r\n",
      "Requirement already satisfied: chardet<4,>=3.0.2 in /opt/conda/lib/python3.7/site-packages (from requests>=2.0.0->requests-oauthlib>=0.7.0->tweepy) (3.0.4)\r\n",
      "Requirement already satisfied: idna<3,>=2.5 in /opt/conda/lib/python3.7/site-packages (from requests>=2.0.0->requests-oauthlib>=0.7.0->tweepy) (2.9)\r\n",
      "Requirement already satisfied: certifi>=2017.4.17 in /opt/conda/lib/python3.7/site-packages (from requests>=2.0.0->requests-oauthlib>=0.7.0->tweepy) (2020.12.5)\r\n",
      "Requirement already satisfied: urllib3!=1.25.0,!=1.25.1,<1.26,>=1.21.1 in /opt/conda/lib/python3.7/site-packages (from requests>=2.0.0->requests-oauthlib>=0.7.0->tweepy) (1.25.9)\r\n",
      "Requirement already satisfied: chardet<4,>=3.0.2 in /opt/conda/lib/python3.7/site-packages (from requests>=2.0.0->requests-oauthlib>=0.7.0->tweepy) (3.0.4)\r\n",
      "Requirement already satisfied: idna<3,>=2.5 in /opt/conda/lib/python3.7/site-packages (from requests>=2.0.0->requests-oauthlib>=0.7.0->tweepy) (2.9)\r\n",
      "Requirement already satisfied: PySocks!=1.5.7,>=1.5.6 in /opt/conda/lib/python3.7/site-packages (from requests[socks]>=2.11.1->tweepy) (1.7.1)\r\n",
      "Installing collected packages: tweepy\r\n",
      "Successfully installed tweepy-3.9.0\r\n"
     ]
    }
   ],
   "source": [
    "!pip install tweepy"
   ]
  },
  {
   "cell_type": "markdown",
   "metadata": {
    "papermill": {
     "duration": 0.068574,
     "end_time": "2020-12-15T00:42:59.334586",
     "exception": false,
     "start_time": "2020-12-15T00:42:59.266012",
     "status": "completed"
    },
    "tags": []
   },
   "source": [
    "# import libraries python"
   ]
  },
  {
   "cell_type": "markdown",
   "metadata": {
    "papermill": {
     "duration": 0.064389,
     "end_time": "2020-12-15T00:42:59.464002",
     "exception": false,
     "start_time": "2020-12-15T00:42:59.399613",
     "status": "completed"
    },
    "tags": []
   },
   "source": [
    "* used NLP and NLTK with wordnet et stopwords"
   ]
  },
  {
   "cell_type": "code",
   "execution_count": 2,
   "metadata": {
    "execution": {
     "iopub.execute_input": "2020-12-15T00:42:59.604852Z",
     "iopub.status.busy": "2020-12-15T00:42:59.601895Z",
     "iopub.status.idle": "2020-12-15T00:43:02.625556Z",
     "shell.execute_reply": "2020-12-15T00:43:02.626201Z"
    },
    "papermill": {
     "duration": 3.098176,
     "end_time": "2020-12-15T00:43:02.626417",
     "exception": false,
     "start_time": "2020-12-15T00:42:59.528241",
     "status": "completed"
    },
    "tags": []
   },
   "outputs": [
    {
     "name": "stdout",
     "output_type": "stream",
     "text": [
      "[nltk_data] Downloading package stopwords to /usr/share/nltk_data...\n",
      "[nltk_data]   Package stopwords is already up-to-date!\n",
      "[nltk_data] Downloading package wordnet to /usr/share/nltk_data...\n",
      "[nltk_data]   Package wordnet is already up-to-date!\n"
     ]
    }
   ],
   "source": [
    "import pandas as pd\n",
    "import numpy as np\n",
    "import seaborn as sns\n",
    "import matplotlib.pyplot as plt\n",
    "\n",
    "import tweepy\n",
    "import csv\n",
    "import os\n",
    "import pandas as pd\n",
    "\n",
    "import numpy as np \n",
    "import pandas as pd\n",
    "import matplotlib.pyplot as plt\n",
    "import seaborn as sns\n",
    "import re\n",
    "import spacy\n",
    "from sklearn.model_selection import train_test_split\n",
    "import nltk\n",
    "nltk.download('stopwords')\n",
    "nltk.download('wordnet')\n",
    "from nltk.tokenize import RegexpTokenizer, WhitespaceTokenizer\n",
    "from nltk.stem import WordNetLemmatizer\n",
    "from nltk.corpus import stopwords\n",
    "import string\n",
    "from string import punctuation\n",
    "import collections\n",
    "from collections import Counter\n",
    "from sklearn.feature_extraction.text import CountVectorizer, TfidfVectorizer\n",
    "import en_core_web_sm"
   ]
  },
  {
   "cell_type": "markdown",
   "metadata": {
    "papermill": {
     "duration": 0.066772,
     "end_time": "2020-12-15T00:43:02.760988",
     "exception": false,
     "start_time": "2020-12-15T00:43:02.694216",
     "status": "completed"
    },
    "tags": []
   },
   "source": [
    "# Read our dasasets**"
   ]
  },
  {
   "cell_type": "code",
   "execution_count": 3,
   "metadata": {
    "execution": {
     "iopub.execute_input": "2020-12-15T00:43:02.912152Z",
     "iopub.status.busy": "2020-12-15T00:43:02.911377Z",
     "iopub.status.idle": "2020-12-15T00:43:03.012326Z",
     "shell.execute_reply": "2020-12-15T00:43:03.011593Z"
    },
    "papermill": {
     "duration": 0.183473,
     "end_time": "2020-12-15T00:43:03.012438",
     "exception": false,
     "start_time": "2020-12-15T00:43:02.828965",
     "status": "completed"
    },
    "tags": []
   },
   "outputs": [],
   "source": [
    "datasets = pd.read_csv('../input/clustering/data.csv' )"
   ]
  },
  {
   "cell_type": "code",
   "execution_count": 4,
   "metadata": {
    "execution": {
     "iopub.execute_input": "2020-12-15T00:43:03.153872Z",
     "iopub.status.busy": "2020-12-15T00:43:03.153086Z",
     "iopub.status.idle": "2020-12-15T00:43:03.174053Z",
     "shell.execute_reply": "2020-12-15T00:43:03.174573Z"
    },
    "papermill": {
     "duration": 0.094549,
     "end_time": "2020-12-15T00:43:03.174722",
     "exception": false,
     "start_time": "2020-12-15T00:43:03.080173",
     "status": "completed"
    },
    "tags": []
   },
   "outputs": [
    {
     "data": {
      "text/html": [
       "<div>\n",
       "<style scoped>\n",
       "    .dataframe tbody tr th:only-of-type {\n",
       "        vertical-align: middle;\n",
       "    }\n",
       "\n",
       "    .dataframe tbody tr th {\n",
       "        vertical-align: top;\n",
       "    }\n",
       "\n",
       "    .dataframe thead th {\n",
       "        text-align: right;\n",
       "    }\n",
       "</style>\n",
       "<table border=\"1\" class=\"dataframe\">\n",
       "  <thead>\n",
       "    <tr style=\"text-align: right;\">\n",
       "      <th></th>\n",
       "      <th>user</th>\n",
       "      <th>Text</th>\n",
       "    </tr>\n",
       "  </thead>\n",
       "  <tbody>\n",
       "    <tr>\n",
       "      <th>0</th>\n",
       "      <td>ReaveleyBarbara</td>\n",
       "      <td>@TruthOuter @lara_lazar “Those who do not lear...</td>\n",
       "    </tr>\n",
       "    <tr>\n",
       "      <th>1</th>\n",
       "      <td>_letsbebadguys</td>\n",
       "      <td>RT @Sillyshib: So, basically the government ar...</td>\n",
       "    </tr>\n",
       "    <tr>\n",
       "      <th>2</th>\n",
       "      <td>aplemkseriously</td>\n",
       "      <td>RT @brooklynmarie: Today I got the idea to put...</td>\n",
       "    </tr>\n",
       "    <tr>\n",
       "      <th>3</th>\n",
       "      <td>FixSheltersNow</td>\n",
       "      <td>@B_J_Davis @NeilAxelrod @LisaMarieBoothe You m...</td>\n",
       "    </tr>\n",
       "    <tr>\n",
       "      <th>4</th>\n",
       "      <td>GrantThorntonAU</td>\n",
       "      <td>COVID has pressed the pause button on the econ...</td>\n",
       "    </tr>\n",
       "  </tbody>\n",
       "</table>\n",
       "</div>"
      ],
      "text/plain": [
       "              user                                               Text\n",
       "0  ReaveleyBarbara  @TruthOuter @lara_lazar “Those who do not lear...\n",
       "1   _letsbebadguys  RT @Sillyshib: So, basically the government ar...\n",
       "2  aplemkseriously  RT @brooklynmarie: Today I got the idea to put...\n",
       "3   FixSheltersNow  @B_J_Davis @NeilAxelrod @LisaMarieBoothe You m...\n",
       "4  GrantThorntonAU  COVID has pressed the pause button on the econ..."
      ]
     },
     "execution_count": 4,
     "metadata": {},
     "output_type": "execute_result"
    }
   ],
   "source": [
    "datasets.head()\n"
   ]
  },
  {
   "cell_type": "code",
   "execution_count": 5,
   "metadata": {
    "execution": {
     "iopub.execute_input": "2020-12-15T00:43:03.312888Z",
     "iopub.status.busy": "2020-12-15T00:43:03.312260Z",
     "iopub.status.idle": "2020-12-15T00:43:03.317530Z",
     "shell.execute_reply": "2020-12-15T00:43:03.318283Z"
    },
    "papermill": {
     "duration": 0.075802,
     "end_time": "2020-12-15T00:43:03.318425",
     "exception": false,
     "start_time": "2020-12-15T00:43:03.242623",
     "status": "completed"
    },
    "tags": []
   },
   "outputs": [
    {
     "data": {
      "text/plain": [
       "(20000, 2)"
      ]
     },
     "execution_count": 5,
     "metadata": {},
     "output_type": "execute_result"
    }
   ],
   "source": [
    "datasets.shape"
   ]
  },
  {
   "cell_type": "markdown",
   "metadata": {
    "papermill": {
     "duration": 0.068428,
     "end_time": "2020-12-15T00:43:03.461679",
     "exception": false,
     "start_time": "2020-12-15T00:43:03.393251",
     "status": "completed"
    },
    "tags": []
   },
   "source": [
    "# Text Classification"
   ]
  },
  {
   "cell_type": "markdown",
   "metadata": {
    "papermill": {
     "duration": 0.068427,
     "end_time": "2020-12-15T00:43:03.599536",
     "exception": false,
     "start_time": "2020-12-15T00:43:03.531109",
     "status": "completed"
    },
    "tags": []
   },
   "source": [
    "1.  Cleaning the tweets"
   ]
  },
  {
   "cell_type": "markdown",
   "metadata": {
    "papermill": {
     "duration": 0.068481,
     "end_time": "2020-12-15T00:43:03.738051",
     "exception": false,
     "start_time": "2020-12-15T00:43:03.669570",
     "status": "completed"
    },
    "tags": []
   },
   "source": [
    "lemmatization, tokenizing, removing stopwards, punctuations, hashtags and mentions"
   ]
  },
  {
   "cell_type": "code",
   "execution_count": 6,
   "metadata": {
    "execution": {
     "iopub.execute_input": "2020-12-15T00:43:03.900927Z",
     "iopub.status.busy": "2020-12-15T00:43:03.895942Z",
     "iopub.status.idle": "2020-12-15T00:43:04.713455Z",
     "shell.execute_reply": "2020-12-15T00:43:04.712917Z"
    },
    "papermill": {
     "duration": 0.905967,
     "end_time": "2020-12-15T00:43:04.713613",
     "exception": false,
     "start_time": "2020-12-15T00:43:03.807646",
     "status": "completed"
    },
    "tags": []
   },
   "outputs": [
    {
     "data": {
      "text/html": [
       "<div>\n",
       "<style scoped>\n",
       "    .dataframe tbody tr th:only-of-type {\n",
       "        vertical-align: middle;\n",
       "    }\n",
       "\n",
       "    .dataframe tbody tr th {\n",
       "        vertical-align: top;\n",
       "    }\n",
       "\n",
       "    .dataframe thead th {\n",
       "        text-align: right;\n",
       "    }\n",
       "</style>\n",
       "<table border=\"1\" class=\"dataframe\">\n",
       "  <thead>\n",
       "    <tr style=\"text-align: right;\">\n",
       "      <th></th>\n",
       "      <th>user</th>\n",
       "      <th>Text</th>\n",
       "    </tr>\n",
       "  </thead>\n",
       "  <tbody>\n",
       "    <tr>\n",
       "      <th>0</th>\n",
       "      <td>ReaveleyBarbara</td>\n",
       "      <td>lazar those who do not learn history are doom...</td>\n",
       "    </tr>\n",
       "    <tr>\n",
       "      <th>1</th>\n",
       "      <td>_letsbebadguys</td>\n",
       "      <td>so basically the government are playing chic...</td>\n",
       "    </tr>\n",
       "    <tr>\n",
       "      <th>2</th>\n",
       "      <td>aplemkseriously</td>\n",
       "      <td>today i got the idea to put together a threa...</td>\n",
       "    </tr>\n",
       "    <tr>\n",
       "      <th>3</th>\n",
       "      <td>FixSheltersNow</td>\n",
       "      <td>jdavis   you must be kidding seriously begging...</td>\n",
       "    </tr>\n",
       "    <tr>\n",
       "      <th>4</th>\n",
       "      <td>GrantThorntonAU</td>\n",
       "      <td>covid has pressed the pause button on the econ...</td>\n",
       "    </tr>\n",
       "  </tbody>\n",
       "</table>\n",
       "</div>"
      ],
      "text/plain": [
       "              user                                               Text\n",
       "0  ReaveleyBarbara   lazar those who do not learn history are doom...\n",
       "1   _letsbebadguys    so basically the government are playing chic...\n",
       "2  aplemkseriously    today i got the idea to put together a threa...\n",
       "3   FixSheltersNow  jdavis   you must be kidding seriously begging...\n",
       "4  GrantThorntonAU  covid has pressed the pause button on the econ..."
      ]
     },
     "execution_count": 6,
     "metadata": {},
     "output_type": "execute_result"
    }
   ],
   "source": [
    "# remove the hashtags, mentions and unwanted characters from the tweet texts\n",
    "def clean_text(df, text_field):\n",
    "    df[text_field] = df[text_field].str.lower()\n",
    "    df[text_field] = df[text_field].apply(lambda elem: re.sub(r\"(@[A-Za-z0-9]+)|([^0-9A-Za-z \\t])|(\\w+:\\/\\/\\S+)|^rt|http.+?\", \"\", elem))  \n",
    "    return df\n",
    "\n",
    "clean_tweets = clean_text(datasets, 'Text')\n",
    "clean_tweets.head()"
   ]
  },
  {
   "cell_type": "markdown",
   "metadata": {
    "papermill": {
     "duration": 0.068575,
     "end_time": "2020-12-15T00:43:04.850021",
     "exception": false,
     "start_time": "2020-12-15T00:43:04.781446",
     "status": "completed"
    },
    "tags": []
   },
   "source": [
    "remove stopwords, punctuations, lemmatize and tokenize word"
   ]
  },
  {
   "cell_type": "code",
   "execution_count": 7,
   "metadata": {
    "execution": {
     "iopub.execute_input": "2020-12-15T00:43:04.996159Z",
     "iopub.status.busy": "2020-12-15T00:43:04.995408Z",
     "iopub.status.idle": "2020-12-15T00:43:10.028852Z",
     "shell.execute_reply": "2020-12-15T00:43:10.028139Z"
    },
    "papermill": {
     "duration": 5.110112,
     "end_time": "2020-12-15T00:43:10.028975",
     "exception": false,
     "start_time": "2020-12-15T00:43:04.918863",
     "status": "completed"
    },
    "tags": []
   },
   "outputs": [
    {
     "name": "stderr",
     "output_type": "stream",
     "text": [
      "/opt/conda/lib/python3.7/site-packages/ipykernel_launcher.py:23: UserWarning: Pandas doesn't allow columns to be created via a new attribute name - see https://pandas.pydata.org/pandas-docs/stable/indexing.html#attribute-access\n"
     ]
    }
   ],
   "source": [
    "\n",
    "#remove stopwords, punctuations, lemmatize and tokenize word\n",
    "# nlp = spacy.load(\"en_core_web_sm\")   #working with english only, no support for swahili\n",
    "nlp = en_core_web_sm.load()\n",
    "tokenizer = RegexpTokenizer(r'\\w+')\n",
    "lemmatizer = WordNetLemmatizer()\n",
    "stop = set(stopwords.words('english'))\n",
    "punctuation = list(string.punctuation) #already taken care of with the cleaning function.\n",
    "stop.update(punctuation)\n",
    "w_tokenizer = WhitespaceTokenizer()\n",
    "\n",
    "            \n",
    "def furnished(text):\n",
    "    final_text = []\n",
    "    for i in w_tokenizer.tokenize(text):\n",
    "#     for i in text.split():\n",
    "        if i.lower() not in stop:\n",
    "            word = lemmatizer.lemmatize(i)\n",
    "            final_text.append(word.lower())\n",
    "    return \" \".join(final_text)\n",
    "\n",
    "\n",
    "            \n",
    "datasets.tweets = datasets.Text.apply(furnished)"
   ]
  },
  {
   "cell_type": "code",
   "execution_count": 8,
   "metadata": {
    "execution": {
     "iopub.execute_input": "2020-12-15T00:43:10.176953Z",
     "iopub.status.busy": "2020-12-15T00:43:10.175920Z",
     "iopub.status.idle": "2020-12-15T00:43:10.179832Z",
     "shell.execute_reply": "2020-12-15T00:43:10.180326Z"
    },
    "papermill": {
     "duration": 0.083183,
     "end_time": "2020-12-15T00:43:10.180461",
     "exception": false,
     "start_time": "2020-12-15T00:43:10.097278",
     "status": "completed"
    },
    "tags": []
   },
   "outputs": [
    {
     "data": {
      "text/html": [
       "<div>\n",
       "<style scoped>\n",
       "    .dataframe tbody tr th:only-of-type {\n",
       "        vertical-align: middle;\n",
       "    }\n",
       "\n",
       "    .dataframe tbody tr th {\n",
       "        vertical-align: top;\n",
       "    }\n",
       "\n",
       "    .dataframe thead th {\n",
       "        text-align: right;\n",
       "    }\n",
       "</style>\n",
       "<table border=\"1\" class=\"dataframe\">\n",
       "  <thead>\n",
       "    <tr style=\"text-align: right;\">\n",
       "      <th></th>\n",
       "      <th>user</th>\n",
       "      <th>Text</th>\n",
       "    </tr>\n",
       "  </thead>\n",
       "  <tbody>\n",
       "    <tr>\n",
       "      <th>5280</th>\n",
       "      <td>Mayer__</td>\n",
       "      <td>a 9 meses de la pandemia en chile el viernes...</td>\n",
       "    </tr>\n",
       "    <tr>\n",
       "      <th>9942</th>\n",
       "      <td>JacksonLewisPC</td>\n",
       "      <td>cressinda chris schlag from our workplacesafet...</td>\n",
       "    </tr>\n",
       "    <tr>\n",
       "      <th>14501</th>\n",
       "      <td>HIHKatharine</td>\n",
       "      <td>trump asks pennsylvania house speaker for he...</td>\n",
       "    </tr>\n",
       "    <tr>\n",
       "      <th>7010</th>\n",
       "      <td>Jerianhypeman</td>\n",
       "      <td>cancel culture at its finest</td>\n",
       "    </tr>\n",
       "    <tr>\n",
       "      <th>13296</th>\n",
       "      <td>MSN</td>\n",
       "      <td>lawmakers vow to override trump veto of defens...</td>\n",
       "    </tr>\n",
       "  </tbody>\n",
       "</table>\n",
       "</div>"
      ],
      "text/plain": [
       "                 user                                               Text\n",
       "5280          Mayer__    a 9 meses de la pandemia en chile el viernes...\n",
       "9942   JacksonLewisPC  cressinda chris schlag from our workplacesafet...\n",
       "14501    HIHKatharine    trump asks pennsylvania house speaker for he...\n",
       "7010    Jerianhypeman                       cancel culture at its finest\n",
       "13296             MSN  lawmakers vow to override trump veto of defens..."
      ]
     },
     "execution_count": 8,
     "metadata": {},
     "output_type": "execute_result"
    }
   ],
   "source": [
    "datasets.sample(5)"
   ]
  },
  {
   "cell_type": "markdown",
   "metadata": {
    "papermill": {
     "duration": 0.067647,
     "end_time": "2020-12-15T00:43:10.316711",
     "exception": false,
     "start_time": "2020-12-15T00:43:10.249064",
     "status": "completed"
    },
    "tags": []
   },
   "source": [
    " 2. Defining the set of words."
   ]
  },
  {
   "cell_type": "markdown",
   "metadata": {
    "papermill": {
     "duration": 0.067573,
     "end_time": "2020-12-15T00:43:10.453207",
     "exception": false,
     "start_time": "2020-12-15T00:43:10.385634",
     "status": "completed"
    },
    "tags": []
   },
   "source": [
    "Related Words runs on several different algorithms which compete to get their results higher in the list. One such algorithm uses ***word embedding*** to convert words into many dimensional vectors which represent their meanings\n",
    "\n",
    "Word embedding is any of a set of language modeling and feature learning techniques in natural language processing (NLP) where words or phrases from the vocabulary are mapped to vectors of real numbers. Conceptually it involves a mathematical embedding from a space with many dimensions per word to a continuous vector space with a much lower dimension.\n",
    "\n",
    "Link to obtain Related Words: https://relatedwords.org/"
   ]
  },
  {
   "cell_type": "code",
   "execution_count": 9,
   "metadata": {
    "execution": {
     "iopub.execute_input": "2020-12-15T00:43:10.596002Z",
     "iopub.status.busy": "2020-12-15T00:43:10.592230Z",
     "iopub.status.idle": "2020-12-15T00:43:10.599365Z",
     "shell.execute_reply": "2020-12-15T00:43:10.598840Z"
    },
    "papermill": {
     "duration": 0.07817,
     "end_time": "2020-12-15T00:43:10.599472",
     "exception": false,
     "start_time": "2020-12-15T00:43:10.521302",
     "status": "completed"
    },
    "tags": []
   },
   "outputs": [],
   "source": [
    "sport_related_words = '''game disport play foul player mountaineer hunt fence archery sportive fencing jest SUV Boxer sporting\n",
    "sporty pastime fishing attack big game falconry gaud sportless ring sports sailing cross-country hunting skateboarding\n",
    "caving shikar ski surfing turf lake racing preserve\n",
    "professional box angling discus spectator sport toy dive pothunter boxing foil crew shoot pro course fisherman skiing fun rowing fancy\n",
    "hunter trapshooting skating mock judo sportswear mountaineering lark cycling running riding action sport bowl\n",
    "waggish sportful field multisport yachting titlist blood sport race snowboarding javelin sportsmanship wanton weightlifting mockery racket put fan shooting sail law\n",
    "letter championship coursing sporting fish skylark speed skating amateur laugh sports diving ploy climber climb sports diver season\n",
    "kendo letterman swordsman chase daff hammer ballooning surfboarding run wrestle angler the chase fandom paragliding semiprofessional mimic runner quarry slalom game fish\n",
    "activewear scuba diving trainer sportswoman venery luge score tobogganing kiteboarding autocross harlequin wrestling major league unsportsmanlike bait ball junior\n",
    "sportfishing hack synchronized swimming windsurfing falconer train crown stuff defender SUB sky divingtyro\n",
    "pickerel marlin gymnastics crewman netball rage challenge coasteering aficionado langlauf dandiprat spike fool rulebook cave fox hunt\n",
    "wrestler blinder sport vehicle track team joke tubing extreme freediving game bird horse riding referee\n",
    "snowmobiling kit rallying fall sportsperson DCMS speleology marlock rodeo kickball tussle spelunking slump pot racquetball canoeing block dodgeball turn pro\n",
    "broomball commissioner celebrity fumble the top flight sported split time fencer horse racing sport fish\n",
    "goody fox-hunting artistry all-rounder skeleton pro shop ice-skating duffer trash-talk spot bobsledding gamy pig-sticking retire\n",
    "surfer fight misplay rabbit sporting celebrity harness racing survivalist preseason\n",
    "sack try out fisher archer bouldering Dove devotee convert camogie mixed martial arts sim suit up mimicry throw hustle canyoneering sabre hoax pheasant dummy ringed rang AIS territory double bouncebackability mumm extreme sport rung sportingly\n",
    "jape fratch gamer scrimmage sideline ridicule bantam riflery widow close season base \n",
    "jumping allAmerican record  mountainboarding skijoring penalty gamesome merrymaking '''\n"
   ]
  },
  {
   "cell_type": "code",
   "execution_count": 10,
   "metadata": {
    "execution": {
     "iopub.execute_input": "2020-12-15T00:43:10.741075Z",
     "iopub.status.busy": "2020-12-15T00:43:10.740058Z",
     "iopub.status.idle": "2020-12-15T00:43:10.745553Z",
     "shell.execute_reply": "2020-12-15T00:43:10.746070Z"
    },
    "papermill": {
     "duration": 0.077384,
     "end_time": "2020-12-15T00:43:10.746213",
     "exception": false,
     "start_time": "2020-12-15T00:43:10.668829",
     "status": "completed"
    },
    "tags": []
   },
   "outputs": [],
   "source": [
    "politics_related_words = '''diplomatic government law election aristotle diplomatical political science\n",
    "political parties politics ethics sovereign state suave smooth tribe republic dynasty expedient sagacious politician direct democracy political economy international relations\n",
    "state public policy power public administration city polis greek language social status border political system niccolò machiavelli thomas hobbes war nationalism technocracy society reactionary anarchism centrism russian empire ottoman empire absolute monarchy constitutions political geography bland monarchy pluralism legislature executive judiciary democracy comparative politics\n",
    "resource academy negotiation force warfare clans tribes company aristocracy plato political philosophy culture chanakya country confucius sic religion governance normative utopia decision-making\n",
    "chimpanzee confederation frontier federation\n",
    "chiefdom africa oasis sumer arthashastra mesopotamia terrorism river kleptocracy athens moralism nations christianism\n",
    "inveterately contradictive mobocracy equalitarian sermonise christianly mudslinger\n",
    "statesmanly sloganeer technocratic megalomanic westernism passivism russophile stateless society ancient civilizations psychodrama\n",
    "self-perpetuating first civilization balkanized piercer\n",
    "clubby internalised band society reflation nontransparent kafkaesque postindustrial unsustainability overregulated conflict theories\n",
    "atomized uruk period self-regulating predynastic egypt hidebound nonideological wrongness nile river dispassion fragmenting squishy heteronormative depersonalized metabolizes oligarchy persian gulf covenantal autocracy\n",
    "euphrates river microbiota legitimacy shapers\n",
    "tigris river solipsistic originalism seven-man standard-setting groupthink eviscerated\n",
    "146-nation classical antiquity neuropolitics greek city states ancient rome referendum nation-state athenian democracy peace of westphalia emer de vattel\n",
    "behavioralism position post-structuralism austrian empire\n",
    "plutocracy kingdom of france kingdom of hungary theocracy spanish empire dictatorship british empire muslim world death of muhammad\n",
    "revolution issue federalism drunk driving australia polity \n",
    "san marino mass media dutch republic steven weber david woodward michel fouc '''"
   ]
  },
  {
   "cell_type": "code",
   "execution_count": 11,
   "metadata": {
    "execution": {
     "iopub.execute_input": "2020-12-15T00:43:10.890074Z",
     "iopub.status.busy": "2020-12-15T00:43:10.889053Z",
     "iopub.status.idle": "2020-12-15T00:43:10.895043Z",
     "shell.execute_reply": "2020-12-15T00:43:10.894541Z"
    },
    "papermill": {
     "duration": 0.078948,
     "end_time": "2020-12-15T00:43:10.895165",
     "exception": false,
     "start_time": "2020-12-15T00:43:10.816217",
     "status": "completed"
    },
    "tags": []
   },
   "outputs": [],
   "source": [
    "economy_related_words = '''agriculture infrastructure capitalism trading service sector technology  economical supply \n",
    "                          industrialism efficiency frugality retrenchment downsizing   credit debit value \n",
    "                         economize   save  economically\n",
    "                         economies sluggish rise   rising spending conserve trend \n",
    "                         low-management  decline   industry impact poor  \n",
    "                            profession    surplus   fall\n",
    "                         declining  accelerating interest sectors balance stability productivity increase rates\n",
    "                            pushing expanding stabilize  rate industrial borrowing struggling\n",
    "                           deficit predicted    increasing  data\n",
    "                          economizer analysts investment market-based economy   debt free enterprise\n",
    "                         medium  exchange metric savepoint scarcity capital bank company stockholder fund business  \n",
    "                         asset treasury tourism incomes contraction employment jobs upturn deflation  macroeconomics\n",
    "                         bankruptcies exporters hyperinflation dollar entrepreneurship upswing marketplace commerce devaluation \n",
    "                         quicksave deindustrialization stockmarket reflation downspin dollarization withholder bankroll venture capital\n",
    "                         mutual fund plan economy mortgage lender unemployment rate credit crunch central bank financial institution\n",
    "                         bank rate custom duties mass-production black-market developing-countries developing economic-growth gdp trade barter \n",
    "                         distribution downturn economist'''"
   ]
  },
  {
   "cell_type": "code",
   "execution_count": 12,
   "metadata": {
    "execution": {
     "iopub.execute_input": "2020-12-15T00:43:11.039954Z",
     "iopub.status.busy": "2020-12-15T00:43:11.039097Z",
     "iopub.status.idle": "2020-12-15T00:43:11.042307Z",
     "shell.execute_reply": "2020-12-15T00:43:11.041771Z"
    },
    "papermill": {
     "duration": 0.078679,
     "end_time": "2020-12-15T00:43:11.042420",
     "exception": false,
     "start_time": "2020-12-15T00:43:10.963741",
     "status": "completed"
    },
    "tags": []
   },
   "outputs": [],
   "source": [
    "social_related_words = '''sociable, gregarious societal friendly society socialization political  sociality \n",
    "                        interpersonal  ethnic socially party welfare public community socialist societies development\n",
    "                            network humans socialism collective personal corporation social constructivism\n",
    "                        relations volition citizenship brute   attitude rights socio \n",
    "                        socioeconomic ethics civic communal marital  sociale socialized communities     \n",
    "                         policy   unions        \n",
    "                        institutions values     governmental   organizations jamboree \n",
    "                         festivity    fairness  support  care  \n",
    "                         sides   activism     unsocial psychosocial \n",
    "                        socializing psychological distributional  demographic  participation reunion \n",
    "                        partygoer partyism festive power network gala housewarming celebration counterparty   social-war\n",
    "                        particularist interactional ideational asocial'''"
   ]
  },
  {
   "cell_type": "code",
   "execution_count": 13,
   "metadata": {
    "execution": {
     "iopub.execute_input": "2020-12-15T00:43:11.204950Z",
     "iopub.status.busy": "2020-12-15T00:43:11.203904Z",
     "iopub.status.idle": "2020-12-15T00:43:11.209477Z",
     "shell.execute_reply": "2020-12-15T00:43:11.210090Z"
    },
    "papermill": {
     "duration": 0.092425,
     "end_time": "2020-12-15T00:43:11.210231",
     "exception": false,
     "start_time": "2020-12-15T00:43:11.117806",
     "status": "completed"
    },
    "tags": []
   },
   "outputs": [],
   "source": [
    "culture_related_words  = ''' ethnicity heritage modernity spirituality marxismmaterial culture \n",
    "                           ethos nationality humanism romanticism civilisation traditionalism genetics\n",
    "                        kinship heredity marriage   indigenous  archeology  acculturate  \n",
    "                       ontogenesis viniculture modern clothes     rooted \n",
    "                       cicero societies history roots influence geography historical folk origins \n",
    "                       phenomenon teleology ancient aspects perspective liberalism nowadays community style unique prevalent describes \n",
    "                         today  origin   modernity beliefs  genre barbarian ethnic \n",
    "                       colonization cultural universal organization western-civilization structuralism  culture \n",
    "                       heathen pagan transculturation culture peasant classicist nativism anarchy ungrown philosophic cult  \n",
    "                       consciousness islamist bro-culture evolve cultic diaspora aftergrowth native cultural-relativism  \n",
    "                       mongolian cosmopolitan epistemology lifestyles diversity chauvinism westernization materialism vernacular \n",
    "                       homogeneity otherness holism tusculanae disputationes primitivism superficiality hedonism discourse\n",
    "                       puritanism modernism intellectualism  exclusiveness elitism  colonialism  \n",
    "                       pentecostalism paganism nationwide expansion rural  auxesis kimono \n",
    "                       culturize alethophobia nettlebed japanification  dongyi clannishness insularity hybridity\n",
    "                       westernisation foreignness worldview exclusionism enculturation ethnocentrism  confucianist vulgarization\n",
    "                       shintoism  westernism denominationalism    deracination\n",
    "                        eurocentrism  cosmologies  emotiveness bohemianism territorialism\n",
    "                       philosophical-doctrine ethnic minority social-darwinism  theory cultural evolution belief systemfolk music \n",
    "                       traditional art house karl-marx   theorymedia  \n",
    "                       film-theory art history museum studies cultural artifact'''"
   ]
  },
  {
   "cell_type": "code",
   "execution_count": 14,
   "metadata": {
    "execution": {
     "iopub.execute_input": "2020-12-15T00:43:11.356460Z",
     "iopub.status.busy": "2020-12-15T00:43:11.355805Z",
     "iopub.status.idle": "2020-12-15T00:43:11.358692Z",
     "shell.execute_reply": "2020-12-15T00:43:11.357998Z"
    },
    "papermill": {
     "duration": 0.078722,
     "end_time": "2020-12-15T00:43:11.358813",
     "exception": false,
     "start_time": "2020-12-15T00:43:11.280091",
     "status": "completed"
    },
    "tags": []
   },
   "outputs": [],
   "source": [
    "health_related_words = '''disease obesity world health organization medicine nutrition well-being exercise welfare wellness health care public health \n",
    "                     nursing stress safety hygiene research social healthy condition aids epidemiology healthiness wellbeing\n",
    "                     care illness medical dieteducation infectious disease environmental healthcare physical fitness hospitals \n",
    "                     health care provider doctors healthy community design insurance sanitation human body patient mental health\n",
    "                      medicare agriculture health science fitnesshealth policy  weight loss physical therapy psychology pharmacy\n",
    "                     metabolic organism human lifestyle status unhealthy upbeat vaccination sleep condom alcohol smoking water family\n",
    "                     eudaimonia eudaemonia air house prevention genetics public families poor needs treatment communicable disease \n",
    "                     study protection malaria development food priority management healthful mental provide department administration\n",
    "                     programs help assistance funding environment improving emergency need program affected schools private mental illness \n",
    "                     treat diseases preparedness perinatal fertility sickness veterinary sanitary pharmacists behavioral midwives\n",
    "                     gerontology infertility hospitalization midwifery cholesterol childcare pediatrician pediatrics medicaid asthma \n",
    "                     pensions sicknesses push-up physical education body-mass-index eat well gymnastic apparatus tune up good morning \n",
    "                     bathing low blood-pressure heart attack health club ride-bike you feel good eczema urticaria dermatitis sunburn overwork \n",
    "                     manufacturing medical sociology need exercise run'''"
   ]
  },
  {
   "cell_type": "markdown",
   "metadata": {
    "papermill": {
     "duration": 0.068857,
     "end_time": "2020-12-15T00:43:11.496882",
     "exception": false,
     "start_time": "2020-12-15T00:43:11.428025",
     "status": "completed"
    },
    "tags": []
   },
   "source": [
    "\n",
    "3. Preprocessing the datasets"
   ]
  },
  {
   "cell_type": "markdown",
   "metadata": {
    "papermill": {
     "duration": 0.06985,
     "end_time": "2020-12-15T00:43:11.641258",
     "exception": false,
     "start_time": "2020-12-15T00:43:11.571408",
     "status": "completed"
    },
    "tags": []
   },
   "source": [
    "Tokenizing and removing stop words from the datasets"
   ]
  },
  {
   "cell_type": "code",
   "execution_count": 15,
   "metadata": {
    "execution": {
     "iopub.execute_input": "2020-12-15T00:43:11.782802Z",
     "iopub.status.busy": "2020-12-15T00:43:11.782083Z",
     "iopub.status.idle": "2020-12-15T00:43:12.790789Z",
     "shell.execute_reply": "2020-12-15T00:43:12.791339Z"
    },
    "papermill": {
     "duration": 1.081141,
     "end_time": "2020-12-15T00:43:12.791480",
     "exception": false,
     "start_time": "2020-12-15T00:43:11.710339",
     "status": "completed"
    },
    "tags": []
   },
   "outputs": [],
   "source": [
    "nlp = en_core_web_sm.load()\n",
    "tokenizer = RegexpTokenizer(r'\\w+')\n",
    "lemmatizer = WordNetLemmatizer()\n",
    "stop = set(stopwords.words('english'))\n",
    "punctuation = list(string.punctuation)\n",
    "stop.update(punctuation)\n",
    "w_tokenizer = WhitespaceTokenizer()\n",
    "\n",
    "# clean the set of words\n",
    "            \n",
    "def furnished(text):\n",
    "    final_text = []\n",
    "    for i in text.split():\n",
    "        if i.lower() not in stop:\n",
    "            word = lemmatizer.lemmatize(i)\n",
    "            final_text.append(word.lower())\n",
    "    return \" \".join(final_text)"
   ]
  },
  {
   "cell_type": "code",
   "execution_count": 16,
   "metadata": {
    "execution": {
     "iopub.execute_input": "2020-12-15T00:43:12.934684Z",
     "iopub.status.busy": "2020-12-15T00:43:12.933998Z",
     "iopub.status.idle": "2020-12-15T00:43:12.946860Z",
     "shell.execute_reply": "2020-12-15T00:43:12.947405Z"
    },
    "papermill": {
     "duration": 0.085858,
     "end_time": "2020-12-15T00:43:12.947565",
     "exception": false,
     "start_time": "2020-12-15T00:43:12.861707",
     "status": "completed"
    },
    "tags": []
   },
   "outputs": [],
   "source": [
    "economy = furnished(economy_related_words)\n",
    "social = furnished(social_related_words)\n",
    "culture = furnished(culture_related_words)\n",
    "health = furnished(health_related_words)\n",
    "politics = furnished(politics_related_words)\n",
    "sport = furnished(sport_related_words)\n"
   ]
  },
  {
   "cell_type": "markdown",
   "metadata": {
    "papermill": {
     "duration": 0.068736,
     "end_time": "2020-12-15T00:43:13.086390",
     "exception": false,
     "start_time": "2020-12-15T00:43:13.017654",
     "status": "completed"
    },
    "tags": []
   },
   "source": [
    "Removing duplicates"
   ]
  },
  {
   "cell_type": "code",
   "execution_count": 17,
   "metadata": {
    "execution": {
     "iopub.execute_input": "2020-12-15T00:43:13.227898Z",
     "iopub.status.busy": "2020-12-15T00:43:13.227265Z",
     "iopub.status.idle": "2020-12-15T00:43:13.234804Z",
     "shell.execute_reply": "2020-12-15T00:43:13.235343Z"
    },
    "papermill": {
     "duration": 0.080241,
     "end_time": "2020-12-15T00:43:13.235488",
     "exception": false,
     "start_time": "2020-12-15T00:43:13.155247",
     "status": "completed"
    },
    "tags": []
   },
   "outputs": [
    {
     "data": {
      "text/plain": [
       "'game disport play foul player mountaineer hunt fence archery sportive fencing jest suv boxer sporting sporty pastime fishing attack big falconry gaud sportless ring sport sailing cross-country hunting skateboarding caving shikar ski surfing turf lake racing preserve professional box angling discus spectator toy dive pothunter boxing foil crew shoot pro course fisherman skiing fun rowing fancy hunter trapshooting skating mock judo sportswear mountaineering lark cycling running riding action bowl waggish sportful field multisport yachting titlist blood race snowboarding javelin sportsmanship wanton weightlifting mockery racket put fan shooting sail law letter championship coursing fish skylark speed amateur laugh diving ploy climber climb diver season kendo letterman swordsman chase daff hammer ballooning surfboarding run wrestle angler fandom paragliding semiprofessional mimic runner quarry slalom activewear scuba trainer sportswoman venery luge score tobogganing kiteboarding autocross harlequin wrestling major league unsportsmanlike bait ball junior sportfishing hack synchronized swimming windsurfing falconer train crown stuff defender sub sky divingtyro pickerel marlin gymnastics crewman netball rage challenge coasteering aficionado langlauf dandiprat spike fool rulebook cave fox wrestler blinder vehicle track team joke tubing extreme freediving bird horse referee snowmobiling kit rallying fall sportsperson dcms speleology marlock rodeo kickball tussle spelunking slump pot racquetball canoeing block dodgeball turn broomball commissioner celebrity fumble top flight sported split time fencer goody fox-hunting artistry all-rounder skeleton shop ice-skating duffer trash-talk spot bobsledding gamy pig-sticking retire surfer fight misplay rabbit harness survivalist preseason sack try fisher archer bouldering dove devotee convert camogie mixed martial art sim suit mimicry throw hustle canyoneering sabre hoax pheasant dummy ringed rang ais territory double bouncebackability mumm rung sportingly jape fratch gamer scrimmage sideline ridicule bantam riflery widow close base jumping allamerican record mountainboarding skijoring penalty gamesome merrymaking'"
      ]
     },
     "execution_count": 17,
     "metadata": {},
     "output_type": "execute_result"
    }
   ],
   "source": [
    "string1 = sport\n",
    "words = string1.split()\n",
    "sport = \" \".join(sorted(set(words), key=words.index))\n",
    "sport"
   ]
  },
  {
   "cell_type": "code",
   "execution_count": 18,
   "metadata": {
    "execution": {
     "iopub.execute_input": "2020-12-15T00:43:13.378496Z",
     "iopub.status.busy": "2020-12-15T00:43:13.377826Z",
     "iopub.status.idle": "2020-12-15T00:43:13.385154Z",
     "shell.execute_reply": "2020-12-15T00:43:13.385664Z"
    },
    "papermill": {
     "duration": 0.080716,
     "end_time": "2020-12-15T00:43:13.385813",
     "exception": false,
     "start_time": "2020-12-15T00:43:13.305097",
     "status": "completed"
    },
    "tags": []
   },
   "outputs": [
    {
     "data": {
      "text/plain": [
       "'diplomatic government law election aristotle diplomatical political science party politics ethic sovereign state suave smooth tribe republic dynasty expedient sagacious politician direct democracy economy international relation public policy power administration city polis greek language social status border system niccolò machiavelli thomas hobbes war nationalism technocracy society reactionary anarchism centrism russian empire ottoman absolute monarchy constitution geography bland pluralism legislature executive judiciary comparative resource academy negotiation force warfare clan company aristocracy plato philosophy culture chanakya country confucius sic religion governance normative utopia decision-making chimpanzee confederation frontier federation chiefdom africa oasis sumer arthashastra mesopotamia terrorism river kleptocracy athens moralism nation christianism inveterately contradictive mobocracy equalitarian sermonise christianly mudslinger statesmanly sloganeer technocratic megalomanic westernism passivism russophile stateless ancient civilization psychodrama self-perpetuating first balkanized piercer clubby internalised band reflation nontransparent kafkaesque postindustrial unsustainability overregulated conflict theory atomized uruk period self-regulating predynastic egypt hidebound nonideological wrongness nile dispassion fragmenting squishy heteronormative depersonalized metabolizes oligarchy persian gulf covenantal autocracy euphrates microbiota legitimacy shaper tigris solipsistic originalism seven-man standard-setting groupthink eviscerated 146-nation classical antiquity neuropolitics rome referendum nation-state athenian peace westphalia emer de vattel behavioralism position post-structuralism austrian plutocracy kingdom france hungary theocracy spanish dictatorship british muslim world death muhammad revolution issue federalism drunk driving australia polity san marino mass medium dutch steven weber david woodward michel fouc'"
      ]
     },
     "execution_count": 18,
     "metadata": {},
     "output_type": "execute_result"
    }
   ],
   "source": [
    "string1 = politics\n",
    "words = string1.split()\n",
    "politics = \" \".join(sorted(set(words), key=words.index))\n",
    "politics"
   ]
  },
  {
   "cell_type": "code",
   "execution_count": 19,
   "metadata": {
    "execution": {
     "iopub.execute_input": "2020-12-15T00:43:13.532930Z",
     "iopub.status.busy": "2020-12-15T00:43:13.532178Z",
     "iopub.status.idle": "2020-12-15T00:43:13.538264Z",
     "shell.execute_reply": "2020-12-15T00:43:13.538805Z"
    },
    "papermill": {
     "duration": 0.081321,
     "end_time": "2020-12-15T00:43:13.538944",
     "exception": false,
     "start_time": "2020-12-15T00:43:13.457623",
     "status": "completed"
    },
    "tags": []
   },
   "outputs": [
    {
     "data": {
      "text/plain": [
       "'agriculture infrastructure capitalism trading service sector technology economical supply industrialism efficiency frugality retrenchment downsizing credit debit value economize save economically economy sluggish rise rising spending conserve trend low-management decline industry impact poor profession surplus fall declining accelerating interest balance stability productivity increase rate pushing expanding stabilize industrial borrowing struggling deficit predicted increasing data economizer analyst investment market-based debt free enterprise medium exchange metric savepoint scarcity capital bank company stockholder fund business asset treasury tourism income contraction employment job upturn deflation macroeconomics bankruptcy exporter hyperinflation dollar entrepreneurship upswing marketplace commerce devaluation quicksave deindustrialization stockmarket reflation downspin dollarization withholder bankroll venture mutual plan mortgage lender unemployment crunch central financial institution custom duty mass-production black-market developing-countries developing economic-growth gdp trade barter distribution downturn economist'"
      ]
     },
     "execution_count": 19,
     "metadata": {},
     "output_type": "execute_result"
    }
   ],
   "source": [
    "# delete duplicates\n",
    "string1 = economy\n",
    "words = string1.split()\n",
    "economy = \" \".join(sorted(set(words), key=words.index))\n",
    "economy"
   ]
  },
  {
   "cell_type": "code",
   "execution_count": 20,
   "metadata": {
    "execution": {
     "iopub.execute_input": "2020-12-15T00:43:13.686111Z",
     "iopub.status.busy": "2020-12-15T00:43:13.685417Z",
     "iopub.status.idle": "2020-12-15T00:43:13.691364Z",
     "shell.execute_reply": "2020-12-15T00:43:13.691905Z"
    },
    "papermill": {
     "duration": 0.082076,
     "end_time": "2020-12-15T00:43:13.692050",
     "exception": false,
     "start_time": "2020-12-15T00:43:13.609974",
     "status": "completed"
    },
    "tags": []
   },
   "outputs": [
    {
     "data": {
      "text/plain": [
       "'sociable, gregarious societal friendly society socialization political sociality interpersonal ethnic socially party welfare public community socialist development network human socialism collective personal corporation social constructivism relation volition citizenship brute attitude right socio socioeconomic ethic civic communal marital sociale socialized policy union institution value governmental organization jamboree festivity fairness support care side activism unsocial psychosocial socializing psychological distributional demographic participation reunion partygoer partyism festive power gala housewarming celebration counterparty social-war particularist interactional ideational asocial'"
      ]
     },
     "execution_count": 20,
     "metadata": {},
     "output_type": "execute_result"
    }
   ],
   "source": [
    "string1 = social\n",
    "words = string1.split()\n",
    "social = \" \".join(sorted(set(words), key=words.index))\n",
    "social"
   ]
  },
  {
   "cell_type": "code",
   "execution_count": 21,
   "metadata": {
    "execution": {
     "iopub.execute_input": "2020-12-15T00:43:13.838780Z",
     "iopub.status.busy": "2020-12-15T00:43:13.838096Z",
     "iopub.status.idle": "2020-12-15T00:43:13.845432Z",
     "shell.execute_reply": "2020-12-15T00:43:13.844873Z"
    },
    "papermill": {
     "duration": 0.081301,
     "end_time": "2020-12-15T00:43:13.845558",
     "exception": false,
     "start_time": "2020-12-15T00:43:13.764257",
     "status": "completed"
    },
    "tags": []
   },
   "outputs": [
    {
     "data": {
      "text/plain": [
       "'ethnicity heritage modernity spirituality marxismmaterial culture ethos nationality humanism romanticism civilisation traditionalism genetics kinship heredity marriage indigenous archeology acculturate ontogenesis viniculture modern clothes rooted cicero society history root influence geography historical folk origin phenomenon teleology ancient aspect perspective liberalism nowadays community style unique prevalent describes today belief genre barbarian ethnic colonization cultural universal organization western-civilization structuralism heathen pagan transculturation peasant classicist nativism anarchy ungrown philosophic cult consciousness islamist bro-culture evolve cultic diaspora aftergrowth native cultural-relativism mongolian cosmopolitan epistemology lifestyle diversity chauvinism westernization materialism vernacular homogeneity otherness holism tusculanae disputationes primitivism superficiality hedonism discourse puritanism modernism intellectualism exclusiveness elitism colonialism pentecostalism paganism nationwide expansion rural auxesis kimono culturize alethophobia nettlebed japanification dongyi clannishness insularity hybridity westernisation foreignness worldview exclusionism enculturation ethnocentrism confucianist vulgarization shintoism westernism denominationalism deracination eurocentrism cosmology emotiveness bohemianism territorialism philosophical-doctrine minority social-darwinism theory evolution systemfolk music traditional art house karl-marx theorymedia film-theory museum study artifact'"
      ]
     },
     "execution_count": 21,
     "metadata": {},
     "output_type": "execute_result"
    }
   ],
   "source": [
    "string1 = culture\n",
    "words = string1.split()\n",
    "culture = \" \".join(sorted(set(words), key=words.index))\n",
    "culture"
   ]
  },
  {
   "cell_type": "code",
   "execution_count": 22,
   "metadata": {
    "execution": {
     "iopub.execute_input": "2020-12-15T00:43:13.998361Z",
     "iopub.status.busy": "2020-12-15T00:43:13.997415Z",
     "iopub.status.idle": "2020-12-15T00:43:14.001483Z",
     "shell.execute_reply": "2020-12-15T00:43:14.002075Z"
    },
    "papermill": {
     "duration": 0.08473,
     "end_time": "2020-12-15T00:43:14.002223",
     "exception": false,
     "start_time": "2020-12-15T00:43:13.917493",
     "status": "completed"
    },
    "tags": []
   },
   "outputs": [
    {
     "data": {
      "text/plain": [
       "'disease obesity world health organization medicine nutrition well-being exercise welfare wellness care public nursing stress safety hygiene research social healthy condition aid epidemiology healthiness wellbeing illness medical dieteducation infectious environmental healthcare physical fitness hospital provider doctor community design insurance sanitation human body patient mental medicare agriculture science fitnesshealth policy weight loss therapy psychology pharmacy metabolic organism lifestyle status unhealthy upbeat vaccination sleep condom alcohol smoking water family eudaimonia eudaemonia air house prevention genetics poor need treatment communicable study protection malaria development food priority management healthful provide department administration program help assistance funding environment improving emergency affected school private treat preparedness perinatal fertility sickness veterinary sanitary pharmacist behavioral midwife gerontology infertility hospitalization midwifery cholesterol childcare pediatrician pediatrics medicaid asthma pension push-up education body-mass-index eat well gymnastic apparatus tune good morning bathing low blood-pressure heart attack club ride-bike feel eczema urticaria dermatitis sunburn overwork manufacturing sociology run'"
      ]
     },
     "execution_count": 22,
     "metadata": {},
     "output_type": "execute_result"
    }
   ],
   "source": [
    "string1 = health\n",
    "words = string1.split()\n",
    "health = \" \".join(sorted(set(words), key=words.index))\n",
    "health"
   ]
  },
  {
   "cell_type": "markdown",
   "metadata": {
    "papermill": {
     "duration": 0.073321,
     "end_time": "2020-12-15T00:43:14.149569",
     "exception": false,
     "start_time": "2020-12-15T00:43:14.076248",
     "status": "completed"
    },
    "tags": []
   },
   "source": [
    "\n",
    "4. Vectorizing and Standadization.¶\n"
   ]
  },
  {
   "cell_type": "markdown",
   "metadata": {
    "papermill": {
     "duration": 0.072154,
     "end_time": "2020-12-15T00:43:14.294391",
     "exception": false,
     "start_time": "2020-12-15T00:43:14.222237",
     "status": "completed"
    },
    "tags": []
   },
   "source": [
    "Vectorizing the sets of words, then standardizing them. TFIDF will be used in order to take care of the least frequent words. Standardizing is cause TFIDF favors long sentences and there'll be inconsistencies between the length of the tweets and the length of set of words.\n"
   ]
  },
  {
   "cell_type": "code",
   "execution_count": 23,
   "metadata": {
    "execution": {
     "iopub.execute_input": "2020-12-15T00:43:14.443326Z",
     "iopub.status.busy": "2020-12-15T00:43:14.442364Z",
     "iopub.status.idle": "2020-12-15T00:43:14.447969Z",
     "shell.execute_reply": "2020-12-15T00:43:14.448603Z"
    },
    "papermill": {
     "duration": 0.081693,
     "end_time": "2020-12-15T00:43:14.448752",
     "exception": false,
     "start_time": "2020-12-15T00:43:14.367059",
     "status": "completed"
    },
    "tags": []
   },
   "outputs": [],
   "source": [
    "def get_vectors(*strs):\n",
    "    text = [t for t in strs]\n",
    "    vectorizer = TfidfVectorizer(text)\n",
    "    vectorizer.fit(text)\n",
    "    return vectorizer.transform(text).toarray()"
   ]
  },
  {
   "cell_type": "code",
   "execution_count": 24,
   "metadata": {
    "execution": {
     "iopub.execute_input": "2020-12-15T00:43:14.598060Z",
     "iopub.status.busy": "2020-12-15T00:43:14.597076Z",
     "iopub.status.idle": "2020-12-15T00:43:14.636309Z",
     "shell.execute_reply": "2020-12-15T00:43:14.636925Z"
    },
    "papermill": {
     "duration": 0.115888,
     "end_time": "2020-12-15T00:43:14.637073",
     "exception": false,
     "start_time": "2020-12-15T00:43:14.521185",
     "status": "completed"
    },
    "tags": []
   },
   "outputs": [
    {
     "name": "stderr",
     "output_type": "stream",
     "text": [
      "/opt/conda/lib/python3.7/site-packages/sklearn/utils/validation.py:70: FutureWarning: Pass input=['sociable, gregarious societal friendly society socialization political sociality interpersonal ethnic socially party welfare public community socialist development network human socialism collective personal corporation social constructivism relation volition citizenship brute attitude right socio socioeconomic ethic civic communal marital sociale socialized policy union institution value governmental organization jamboree festivity fairness support care side activism unsocial psychosocial socializing psychological distributional demographic participation reunion partygoer partyism festive power gala housewarming celebration counterparty social-war particularist interactional ideational asocial'] as keyword args. From version 0.25 passing these as positional arguments will result in an error\n",
      "  FutureWarning)\n",
      "/opt/conda/lib/python3.7/site-packages/sklearn/utils/validation.py:70: FutureWarning: Pass input=['agriculture infrastructure capitalism trading service sector technology economical supply industrialism efficiency frugality retrenchment downsizing credit debit value economize save economically economy sluggish rise rising spending conserve trend low-management decline industry impact poor profession surplus fall declining accelerating interest balance stability productivity increase rate pushing expanding stabilize industrial borrowing struggling deficit predicted increasing data economizer analyst investment market-based debt free enterprise medium exchange metric savepoint scarcity capital bank company stockholder fund business asset treasury tourism income contraction employment job upturn deflation macroeconomics bankruptcy exporter hyperinflation dollar entrepreneurship upswing marketplace commerce devaluation quicksave deindustrialization stockmarket reflation downspin dollarization withholder bankroll venture mutual plan mortgage lender unemployment crunch central financial institution custom duty mass-production black-market developing-countries developing economic-growth gdp trade barter distribution downturn economist'] as keyword args. From version 0.25 passing these as positional arguments will result in an error\n",
      "  FutureWarning)\n",
      "/opt/conda/lib/python3.7/site-packages/sklearn/utils/validation.py:70: FutureWarning: Pass input=['ethnicity heritage modernity spirituality marxismmaterial culture ethos nationality humanism romanticism civilisation traditionalism genetics kinship heredity marriage indigenous archeology acculturate ontogenesis viniculture modern clothes rooted cicero society history root influence geography historical folk origin phenomenon teleology ancient aspect perspective liberalism nowadays community style unique prevalent describes today belief genre barbarian ethnic colonization cultural universal organization western-civilization structuralism heathen pagan transculturation peasant classicist nativism anarchy ungrown philosophic cult consciousness islamist bro-culture evolve cultic diaspora aftergrowth native cultural-relativism mongolian cosmopolitan epistemology lifestyle diversity chauvinism westernization materialism vernacular homogeneity otherness holism tusculanae disputationes primitivism superficiality hedonism discourse puritanism modernism intellectualism exclusiveness elitism colonialism pentecostalism paganism nationwide expansion rural auxesis kimono culturize alethophobia nettlebed japanification dongyi clannishness insularity hybridity westernisation foreignness worldview exclusionism enculturation ethnocentrism confucianist vulgarization shintoism westernism denominationalism deracination eurocentrism cosmology emotiveness bohemianism territorialism philosophical-doctrine minority social-darwinism theory evolution systemfolk music traditional art house karl-marx theorymedia film-theory museum study artifact'] as keyword args. From version 0.25 passing these as positional arguments will result in an error\n",
      "  FutureWarning)\n",
      "/opt/conda/lib/python3.7/site-packages/sklearn/utils/validation.py:70: FutureWarning: Pass input=['disease obesity world health organization medicine nutrition well-being exercise welfare wellness care public nursing stress safety hygiene research social healthy condition aid epidemiology healthiness wellbeing illness medical dieteducation infectious environmental healthcare physical fitness hospital provider doctor community design insurance sanitation human body patient mental medicare agriculture science fitnesshealth policy weight loss therapy psychology pharmacy metabolic organism lifestyle status unhealthy upbeat vaccination sleep condom alcohol smoking water family eudaimonia eudaemonia air house prevention genetics poor need treatment communicable study protection malaria development food priority management healthful provide department administration program help assistance funding environment improving emergency affected school private treat preparedness perinatal fertility sickness veterinary sanitary pharmacist behavioral midwife gerontology infertility hospitalization midwifery cholesterol childcare pediatrician pediatrics medicaid asthma pension push-up education body-mass-index eat well gymnastic apparatus tune good morning bathing low blood-pressure heart attack club ride-bike feel eczema urticaria dermatitis sunburn overwork manufacturing sociology run'] as keyword args. From version 0.25 passing these as positional arguments will result in an error\n",
      "  FutureWarning)\n",
      "/opt/conda/lib/python3.7/site-packages/sklearn/utils/validation.py:70: FutureWarning: Pass input=['diplomatic government law election aristotle diplomatical political science party politics ethic sovereign state suave smooth tribe republic dynasty expedient sagacious politician direct democracy economy international relation public policy power administration city polis greek language social status border system niccolò machiavelli thomas hobbes war nationalism technocracy society reactionary anarchism centrism russian empire ottoman absolute monarchy constitution geography bland pluralism legislature executive judiciary comparative resource academy negotiation force warfare clan company aristocracy plato philosophy culture chanakya country confucius sic religion governance normative utopia decision-making chimpanzee confederation frontier federation chiefdom africa oasis sumer arthashastra mesopotamia terrorism river kleptocracy athens moralism nation christianism inveterately contradictive mobocracy equalitarian sermonise christianly mudslinger statesmanly sloganeer technocratic megalomanic westernism passivism russophile stateless ancient civilization psychodrama self-perpetuating first balkanized piercer clubby internalised band reflation nontransparent kafkaesque postindustrial unsustainability overregulated conflict theory atomized uruk period self-regulating predynastic egypt hidebound nonideological wrongness nile dispassion fragmenting squishy heteronormative depersonalized metabolizes oligarchy persian gulf covenantal autocracy euphrates microbiota legitimacy shaper tigris solipsistic originalism seven-man standard-setting groupthink eviscerated 146-nation classical antiquity neuropolitics rome referendum nation-state athenian peace westphalia emer de vattel behavioralism position post-structuralism austrian plutocracy kingdom france hungary theocracy spanish dictatorship british muslim world death muhammad revolution issue federalism drunk driving australia polity san marino mass medium dutch steven weber david woodward michel fouc'] as keyword args. From version 0.25 passing these as positional arguments will result in an error\n",
      "  FutureWarning)\n",
      "/opt/conda/lib/python3.7/site-packages/sklearn/utils/validation.py:70: FutureWarning: Pass input=['game disport play foul player mountaineer hunt fence archery sportive fencing jest suv boxer sporting sporty pastime fishing attack big falconry gaud sportless ring sport sailing cross-country hunting skateboarding caving shikar ski surfing turf lake racing preserve professional box angling discus spectator toy dive pothunter boxing foil crew shoot pro course fisherman skiing fun rowing fancy hunter trapshooting skating mock judo sportswear mountaineering lark cycling running riding action bowl waggish sportful field multisport yachting titlist blood race snowboarding javelin sportsmanship wanton weightlifting mockery racket put fan shooting sail law letter championship coursing fish skylark speed amateur laugh diving ploy climber climb diver season kendo letterman swordsman chase daff hammer ballooning surfboarding run wrestle angler fandom paragliding semiprofessional mimic runner quarry slalom activewear scuba trainer sportswoman venery luge score tobogganing kiteboarding autocross harlequin wrestling major league unsportsmanlike bait ball junior sportfishing hack synchronized swimming windsurfing falconer train crown stuff defender sub sky divingtyro pickerel marlin gymnastics crewman netball rage challenge coasteering aficionado langlauf dandiprat spike fool rulebook cave fox wrestler blinder vehicle track team joke tubing extreme freediving bird horse referee snowmobiling kit rallying fall sportsperson dcms speleology marlock rodeo kickball tussle spelunking slump pot racquetball canoeing block dodgeball turn broomball commissioner celebrity fumble top flight sported split time fencer goody fox-hunting artistry all-rounder skeleton shop ice-skating duffer trash-talk spot bobsledding gamy pig-sticking retire surfer fight misplay rabbit harness survivalist preseason sack try fisher archer bouldering dove devotee convert camogie mixed martial art sim suit mimicry throw hustle canyoneering sabre hoax pheasant dummy ringed rang ais territory double bouncebackability mumm rung sportingly jape fratch gamer scrimmage sideline ridicule bantam riflery widow close base jumping allamerican record mountainboarding skijoring penalty gamesome merrymaking'] as keyword args. From version 0.25 passing these as positional arguments will result in an error\n",
      "  FutureWarning)\n"
     ]
    }
   ],
   "source": [
    "socialvector = get_vectors(social)\n",
    "economic_vector = get_vectors(economy)\n",
    "culture_vector = get_vectors(culture)\n",
    "health_vector = get_vectors(health)\n",
    "politics_vector = get_vectors(politics)\n",
    "sport_vector = get_vectors(sport)"
   ]
  },
  {
   "cell_type": "code",
   "execution_count": 25,
   "metadata": {
    "execution": {
     "iopub.execute_input": "2020-12-15T00:43:14.800159Z",
     "iopub.status.busy": "2020-12-15T00:43:14.794817Z",
     "iopub.status.idle": "2020-12-15T00:43:15.238680Z",
     "shell.execute_reply": "2020-12-15T00:43:15.237939Z"
    },
    "papermill": {
     "duration": 0.525956,
     "end_time": "2020-12-15T00:43:15.238807",
     "exception": false,
     "start_time": "2020-12-15T00:43:14.712851",
     "status": "completed"
    },
    "tags": []
   },
   "outputs": [],
   "source": [
    "## Vectorizing the tweets\n",
    "tv=TfidfVectorizer()\n",
    "# tweets_bowl = tweets_bowl.tweets.apply(get_vectors)\n",
    "# tweets_bowl.head()\n",
    "tfidf_tweets =tv.fit_transform(datasets.tweets)"
   ]
  },
  {
   "cell_type": "markdown",
   "metadata": {
    "papermill": {
     "duration": 0.073956,
     "end_time": "2020-12-15T00:43:15.386982",
     "exception": false,
     "start_time": "2020-12-15T00:43:15.313026",
     "status": "completed"
    },
    "tags": []
   },
   "source": [
    "# Jaccard Similarity"
   ]
  },
  {
   "cell_type": "markdown",
   "metadata": {
    "papermill": {
     "duration": 0.073334,
     "end_time": "2020-12-15T00:43:15.534408",
     "exception": false,
     "start_time": "2020-12-15T00:43:15.461074",
     "status": "completed"
    },
    "tags": []
   },
   "source": [
    "Jaccard similarity is good for cases where duplication does not matter, \n",
    "cosine similarity is good for cases where duplication matters while analyzing text similarity. For two product descriptions, \n",
    "it will be better to use Jaccard similarity as repetition of a word does not reduce their similarity.\n"
   ]
  },
  {
   "cell_type": "code",
   "execution_count": 26,
   "metadata": {
    "execution": {
     "iopub.execute_input": "2020-12-15T00:43:15.690686Z",
     "iopub.status.busy": "2020-12-15T00:43:15.689766Z",
     "iopub.status.idle": "2020-12-15T00:43:15.692843Z",
     "shell.execute_reply": "2020-12-15T00:43:15.692288Z"
    },
    "papermill": {
     "duration": 0.085185,
     "end_time": "2020-12-15T00:43:15.692965",
     "exception": false,
     "start_time": "2020-12-15T00:43:15.607780",
     "status": "completed"
    },
    "tags": []
   },
   "outputs": [],
   "source": [
    "\n",
    "def jaccard_similarity(query, document):\n",
    "    intersection = set(query).intersection(set(document))\n",
    "    union = set(query).union(set(document))\n",
    "    return len(intersection)/len(union)\n",
    "# jaccard_score(socialvector, economic_vector)\n",
    "\n",
    "#for similarity of 1 and 2 of column1\n",
    "# jaccard_similarity('dog lion a dog','dog is cat')\n",
    "\n",
    "\n",
    "def get_scores(group,tweets):\n",
    "    scores = []\n",
    "    for tweet in tweets:\n",
    "        s = jaccard_similarity(group, tweet)\n",
    "        scores.append(s)\n",
    "    return scores"
   ]
  },
  {
   "cell_type": "code",
   "execution_count": 27,
   "metadata": {
    "execution": {
     "iopub.execute_input": "2020-12-15T00:43:15.864213Z",
     "iopub.status.busy": "2020-12-15T00:43:15.853792Z",
     "iopub.status.idle": "2020-12-15T00:43:16.946117Z",
     "shell.execute_reply": "2020-12-15T00:43:16.946656Z"
    },
    "papermill": {
     "duration": 1.180305,
     "end_time": "2020-12-15T00:43:16.946801",
     "exception": false,
     "start_time": "2020-12-15T00:43:15.766496",
     "status": "completed"
    },
    "tags": []
   },
   "outputs": [
    {
     "data": {
      "text/plain": [
       "[0.6785714285714286,\n",
       " 0.8214285714285714,\n",
       " 0.6785714285714286,\n",
       " 0.7142857142857143,\n",
       " 0.75,\n",
       " 0.8214285714285714,\n",
       " 0.09375,\n",
       " 0.6785714285714286,\n",
       " 0.6785714285714286,\n",
       " 0.5714285714285714]"
      ]
     },
     "execution_count": 27,
     "metadata": {},
     "output_type": "execute_result"
    }
   ],
   "source": [
    "#sport scores\n",
    "sp_scores = get_scores(sport, datasets.tweets.to_list())\n",
    "sp_scores[:10]"
   ]
  },
  {
   "cell_type": "code",
   "execution_count": 28,
   "metadata": {
    "execution": {
     "iopub.execute_input": "2020-12-15T00:43:17.099570Z",
     "iopub.status.busy": "2020-12-15T00:43:17.098555Z",
     "iopub.status.idle": "2020-12-15T00:43:18.085974Z",
     "shell.execute_reply": "2020-12-15T00:43:18.085380Z"
    },
    "papermill": {
     "duration": 1.065558,
     "end_time": "2020-12-15T00:43:18.086096",
     "exception": false,
     "start_time": "2020-12-15T00:43:17.020538",
     "status": "completed"
    },
    "tags": []
   },
   "outputs": [
    {
     "data": {
      "text/plain": [
       "[0.59375,\n",
       " 0.71875,\n",
       " 0.59375,\n",
       " 0.625,\n",
       " 0.65625,\n",
       " 0.71875,\n",
       " 0.11428571428571428,\n",
       " 0.59375,\n",
       " 0.59375,\n",
       " 0.5]"
      ]
     },
     "execution_count": 28,
     "metadata": {},
     "output_type": "execute_result"
    }
   ],
   "source": [
    "# politics scores\n",
    "p_scores = get_scores(politics, datasets.tweets.to_list())\n",
    "p_scores[:10]"
   ]
  },
  {
   "cell_type": "code",
   "execution_count": 29,
   "metadata": {
    "execution": {
     "iopub.execute_input": "2020-12-15T00:43:18.239894Z",
     "iopub.status.busy": "2020-12-15T00:43:18.238914Z",
     "iopub.status.idle": "2020-12-15T00:43:18.867427Z",
     "shell.execute_reply": "2020-12-15T00:43:18.867913Z"
    },
    "papermill": {
     "duration": 0.706271,
     "end_time": "2020-12-15T00:43:18.868061",
     "exception": false,
     "start_time": "2020-12-15T00:43:18.161790",
     "status": "completed"
    },
    "tags": []
   },
   "outputs": [
    {
     "data": {
      "text/plain": [
       "[0.6785714285714286,\n",
       " 0.8214285714285714,\n",
       " 0.6785714285714286,\n",
       " 0.7142857142857143,\n",
       " 0.75,\n",
       " 0.8214285714285714,\n",
       " 0.09375,\n",
       " 0.6785714285714286,\n",
       " 0.6785714285714286,\n",
       " 0.5714285714285714]"
      ]
     },
     "execution_count": 29,
     "metadata": {},
     "output_type": "execute_result"
    }
   ],
   "source": [
    "# economic scores\n",
    "e_scores = get_scores(economy, datasets.tweets.to_list())\n",
    "e_scores[:10]"
   ]
  },
  {
   "cell_type": "code",
   "execution_count": 30,
   "metadata": {
    "execution": {
     "iopub.execute_input": "2020-12-15T00:43:19.022837Z",
     "iopub.status.busy": "2020-12-15T00:43:19.021771Z",
     "iopub.status.idle": "2020-12-15T00:43:19.478789Z",
     "shell.execute_reply": "2020-12-15T00:43:19.479264Z"
    },
    "papermill": {
     "duration": 0.536912,
     "end_time": "2020-12-15T00:43:19.479411",
     "exception": false,
     "start_time": "2020-12-15T00:43:18.942499",
     "status": "completed"
    },
    "tags": []
   },
   "outputs": [
    {
     "data": {
      "text/plain": [
       "[0.7037037037037037,\n",
       " 0.7857142857142857,\n",
       " 0.7037037037037037,\n",
       " 0.7407407407407407,\n",
       " 0.7777777777777778,\n",
       " 0.8518518518518519,\n",
       " 0.0967741935483871,\n",
       " 0.7037037037037037,\n",
       " 0.7037037037037037,\n",
       " 0.5925925925925926]"
      ]
     },
     "execution_count": 30,
     "metadata": {},
     "output_type": "execute_result"
    }
   ],
   "source": [
    "# social scores\n",
    "s_scores = get_scores(social, datasets.tweets.to_list())\n",
    "s_scores[:10]"
   ]
  },
  {
   "cell_type": "code",
   "execution_count": 31,
   "metadata": {
    "execution": {
     "iopub.execute_input": "2020-12-15T00:43:19.634470Z",
     "iopub.status.busy": "2020-12-15T00:43:19.633480Z",
     "iopub.status.idle": "2020-12-15T00:43:20.431838Z",
     "shell.execute_reply": "2020-12-15T00:43:20.431233Z"
    },
    "papermill": {
     "duration": 0.87739,
     "end_time": "2020-12-15T00:43:20.431994",
     "exception": false,
     "start_time": "2020-12-15T00:43:19.554604",
     "status": "completed"
    },
    "tags": []
   },
   "outputs": [
    {
     "data": {
      "text/plain": [
       "[0.6785714285714286,\n",
       " 0.8214285714285714,\n",
       " 0.6785714285714286,\n",
       " 0.7142857142857143,\n",
       " 0.75,\n",
       " 0.8214285714285714,\n",
       " 0.09375,\n",
       " 0.6785714285714286,\n",
       " 0.6785714285714286,\n",
       " 0.5714285714285714]"
      ]
     },
     "execution_count": 31,
     "metadata": {},
     "output_type": "execute_result"
    }
   ],
   "source": [
    "# culture scores\n",
    "c_scores = get_scores(culture, datasets.tweets.to_list())\n",
    "c_scores[:10]"
   ]
  },
  {
   "cell_type": "code",
   "execution_count": 32,
   "metadata": {
    "execution": {
     "iopub.execute_input": "2020-12-15T00:43:20.615254Z",
     "iopub.status.busy": "2020-12-15T00:43:20.599744Z",
     "iopub.status.idle": "2020-12-15T00:43:21.298621Z",
     "shell.execute_reply": "2020-12-15T00:43:21.298079Z"
    },
    "papermill": {
     "duration": 0.789051,
     "end_time": "2020-12-15T00:43:21.298753",
     "exception": false,
     "start_time": "2020-12-15T00:43:20.509702",
     "status": "completed"
    },
    "tags": []
   },
   "outputs": [
    {
     "data": {
      "text/plain": [
       "[0.7307692307692307,\n",
       " 0.8148148148148148,\n",
       " 0.7307692307692307,\n",
       " 0.7037037037037037,\n",
       " 0.8076923076923077,\n",
       " 0.8846153846153846,\n",
       " 0.1,\n",
       " 0.6666666666666666,\n",
       " 0.7307692307692307,\n",
       " 0.6153846153846154]"
      ]
     },
     "execution_count": 32,
     "metadata": {},
     "output_type": "execute_result"
    }
   ],
   "source": [
    "# health scores\n",
    "h_scores = get_scores(health, datasets.tweets.to_list())\n",
    "h_scores[:10]"
   ]
  },
  {
   "cell_type": "code",
   "execution_count": 33,
   "metadata": {
    "execution": {
     "iopub.execute_input": "2020-12-15T00:43:21.458264Z",
     "iopub.status.busy": "2020-12-15T00:43:21.457572Z",
     "iopub.status.idle": "2020-12-15T00:43:21.497904Z",
     "shell.execute_reply": "2020-12-15T00:43:21.498383Z"
    },
    "papermill": {
     "duration": 0.123679,
     "end_time": "2020-12-15T00:43:21.498543",
     "exception": false,
     "start_time": "2020-12-15T00:43:21.374864",
     "status": "completed"
    },
    "tags": []
   },
   "outputs": [
    {
     "data": {
      "text/html": [
       "<div>\n",
       "<style scoped>\n",
       "    .dataframe tbody tr th:only-of-type {\n",
       "        vertical-align: middle;\n",
       "    }\n",
       "\n",
       "    .dataframe tbody tr th {\n",
       "        vertical-align: top;\n",
       "    }\n",
       "\n",
       "    .dataframe thead th {\n",
       "        text-align: right;\n",
       "    }\n",
       "</style>\n",
       "<table border=\"1\" class=\"dataframe\">\n",
       "  <thead>\n",
       "    <tr style=\"text-align: right;\">\n",
       "      <th></th>\n",
       "      <th>names</th>\n",
       "      <th>economic_score</th>\n",
       "      <th>social_score</th>\n",
       "      <th>culture_score</th>\n",
       "      <th>health_scores</th>\n",
       "      <th>politics_scores</th>\n",
       "      <th>sport_scores</th>\n",
       "    </tr>\n",
       "  </thead>\n",
       "  <tbody>\n",
       "    <tr>\n",
       "      <th>0</th>\n",
       "      <td>ReaveleyBarbara</td>\n",
       "      <td>0.678571</td>\n",
       "      <td>0.703704</td>\n",
       "      <td>0.678571</td>\n",
       "      <td>0.730769</td>\n",
       "      <td>0.593750</td>\n",
       "      <td>0.678571</td>\n",
       "    </tr>\n",
       "    <tr>\n",
       "      <th>1</th>\n",
       "      <td>_letsbebadguys</td>\n",
       "      <td>0.821429</td>\n",
       "      <td>0.785714</td>\n",
       "      <td>0.821429</td>\n",
       "      <td>0.814815</td>\n",
       "      <td>0.718750</td>\n",
       "      <td>0.821429</td>\n",
       "    </tr>\n",
       "    <tr>\n",
       "      <th>2</th>\n",
       "      <td>aplemkseriously</td>\n",
       "      <td>0.678571</td>\n",
       "      <td>0.703704</td>\n",
       "      <td>0.678571</td>\n",
       "      <td>0.730769</td>\n",
       "      <td>0.593750</td>\n",
       "      <td>0.678571</td>\n",
       "    </tr>\n",
       "    <tr>\n",
       "      <th>3</th>\n",
       "      <td>FixSheltersNow</td>\n",
       "      <td>0.714286</td>\n",
       "      <td>0.740741</td>\n",
       "      <td>0.714286</td>\n",
       "      <td>0.703704</td>\n",
       "      <td>0.625000</td>\n",
       "      <td>0.714286</td>\n",
       "    </tr>\n",
       "    <tr>\n",
       "      <th>4</th>\n",
       "      <td>GrantThorntonAU</td>\n",
       "      <td>0.750000</td>\n",
       "      <td>0.777778</td>\n",
       "      <td>0.750000</td>\n",
       "      <td>0.807692</td>\n",
       "      <td>0.656250</td>\n",
       "      <td>0.750000</td>\n",
       "    </tr>\n",
       "    <tr>\n",
       "      <th>5</th>\n",
       "      <td>tacayler</td>\n",
       "      <td>0.821429</td>\n",
       "      <td>0.851852</td>\n",
       "      <td>0.821429</td>\n",
       "      <td>0.884615</td>\n",
       "      <td>0.718750</td>\n",
       "      <td>0.821429</td>\n",
       "    </tr>\n",
       "    <tr>\n",
       "      <th>6</th>\n",
       "      <td>OcKLQmEF8X7xluj</td>\n",
       "      <td>0.093750</td>\n",
       "      <td>0.096774</td>\n",
       "      <td>0.093750</td>\n",
       "      <td>0.100000</td>\n",
       "      <td>0.114286</td>\n",
       "      <td>0.093750</td>\n",
       "    </tr>\n",
       "    <tr>\n",
       "      <th>7</th>\n",
       "      <td>HalfonJulien</td>\n",
       "      <td>0.678571</td>\n",
       "      <td>0.703704</td>\n",
       "      <td>0.678571</td>\n",
       "      <td>0.666667</td>\n",
       "      <td>0.593750</td>\n",
       "      <td>0.678571</td>\n",
       "    </tr>\n",
       "    <tr>\n",
       "      <th>8</th>\n",
       "      <td>DrAparnaBole</td>\n",
       "      <td>0.678571</td>\n",
       "      <td>0.703704</td>\n",
       "      <td>0.678571</td>\n",
       "      <td>0.730769</td>\n",
       "      <td>0.593750</td>\n",
       "      <td>0.678571</td>\n",
       "    </tr>\n",
       "    <tr>\n",
       "      <th>9</th>\n",
       "      <td>JimmyDun</td>\n",
       "      <td>0.571429</td>\n",
       "      <td>0.592593</td>\n",
       "      <td>0.571429</td>\n",
       "      <td>0.615385</td>\n",
       "      <td>0.500000</td>\n",
       "      <td>0.571429</td>\n",
       "    </tr>\n",
       "  </tbody>\n",
       "</table>\n",
       "</div>"
      ],
      "text/plain": [
       "             names  economic_score  social_score  culture_score  \\\n",
       "0  ReaveleyBarbara        0.678571      0.703704       0.678571   \n",
       "1   _letsbebadguys        0.821429      0.785714       0.821429   \n",
       "2  aplemkseriously        0.678571      0.703704       0.678571   \n",
       "3   FixSheltersNow        0.714286      0.740741       0.714286   \n",
       "4  GrantThorntonAU        0.750000      0.777778       0.750000   \n",
       "5         tacayler        0.821429      0.851852       0.821429   \n",
       "6  OcKLQmEF8X7xluj        0.093750      0.096774       0.093750   \n",
       "7     HalfonJulien        0.678571      0.703704       0.678571   \n",
       "8     DrAparnaBole        0.678571      0.703704       0.678571   \n",
       "9         JimmyDun        0.571429      0.592593       0.571429   \n",
       "\n",
       "   health_scores  politics_scores  sport_scores  \n",
       "0       0.730769         0.593750      0.678571  \n",
       "1       0.814815         0.718750      0.821429  \n",
       "2       0.730769         0.593750      0.678571  \n",
       "3       0.703704         0.625000      0.714286  \n",
       "4       0.807692         0.656250      0.750000  \n",
       "5       0.884615         0.718750      0.821429  \n",
       "6       0.100000         0.114286      0.093750  \n",
       "7       0.666667         0.593750      0.678571  \n",
       "8       0.730769         0.593750      0.678571  \n",
       "9       0.615385         0.500000      0.571429  "
      ]
     },
     "execution_count": 33,
     "metadata": {},
     "output_type": "execute_result"
    }
   ],
   "source": [
    "'''new df with names, and the jaccard scores for each group'''\n",
    "\n",
    "data  = {'names':datasets.user.to_list(), 'economic_score':e_scores,\n",
    "         'social_score': s_scores, 'culture_score':c_scores, 'health_scores':h_scores,'politics_scores':p_scores,'sport_scores':sp_scores}\n",
    "scores_df = pd.DataFrame(data)\n",
    "scores_df.head(10)"
   ]
  },
  {
   "cell_type": "markdown",
   "metadata": {
    "papermill": {
     "duration": 0.077013,
     "end_time": "2020-12-15T00:43:21.653299",
     "exception": false,
     "start_time": "2020-12-15T00:43:21.576286",
     "status": "completed"
    },
    "tags": []
   },
   "source": [
    "* Actual assigning of classes to the tweets"
   ]
  },
  {
   "cell_type": "code",
   "execution_count": 34,
   "metadata": {
    "execution": {
     "iopub.execute_input": "2020-12-15T00:43:21.812766Z",
     "iopub.status.busy": "2020-12-15T00:43:21.812061Z",
     "iopub.status.idle": "2020-12-15T00:43:21.823980Z",
     "shell.execute_reply": "2020-12-15T00:43:21.824562Z"
    },
    "papermill": {
     "duration": 0.092739,
     "end_time": "2020-12-15T00:43:21.824717",
     "exception": false,
     "start_time": "2020-12-15T00:43:21.731978",
     "status": "completed"
    },
    "tags": []
   },
   "outputs": [],
   "source": [
    "def get_clusters(l1, l2, l3, l4,l5,l6):\n",
    "    econ = []\n",
    "    socio = []\n",
    "    cul = []\n",
    "    heal = []\n",
    "    poli = []\n",
    "    spor = []\n",
    "    for i, j, k, l, p, s in zip(l1, l2, l3, l4,l5, l6):\n",
    "        m = max(i, j, k, l, p, s)\n",
    "        if m == i:\n",
    "            econ.append(1)\n",
    "        else:\n",
    "            econ.append(0)\n",
    "        if m == j:\n",
    "            socio.append(1)\n",
    "        else:\n",
    "            socio.append(0)        \n",
    "        if m == k:\n",
    "            cul.append(1)\n",
    "        else:\n",
    "            cul.append(0)  \n",
    "        if m == l:\n",
    "            heal.append(1)\n",
    "        else:\n",
    "            heal.append(0)   \n",
    "        if m == p:\n",
    "            poli.append(1)\n",
    "        else:\n",
    "            poli.append(0) \n",
    "        if m == s:\n",
    "            spor.append(1)\n",
    "        else:\n",
    "            spor.append(0) \n",
    "    return econ, socio, cul, heal, poli, spor"
   ]
  },
  {
   "cell_type": "code",
   "execution_count": 35,
   "metadata": {
    "execution": {
     "iopub.execute_input": "2020-12-15T00:43:21.985722Z",
     "iopub.status.busy": "2020-12-15T00:43:21.985005Z",
     "iopub.status.idle": "2020-12-15T00:43:22.021807Z",
     "shell.execute_reply": "2020-12-15T00:43:22.022381Z"
    },
    "papermill": {
     "duration": 0.118433,
     "end_time": "2020-12-15T00:43:22.022600",
     "exception": false,
     "start_time": "2020-12-15T00:43:21.904167",
     "status": "completed"
    },
    "tags": []
   },
   "outputs": [],
   "source": [
    "l1 = scores_df.economic_score.to_list()\n",
    "l2 = scores_df.social_score.to_list()\n",
    "l3 = scores_df.culture_score.to_list()\n",
    "l4 = scores_df.health_scores.to_list()\n",
    "l5 = scores_df.politics_scores.to_list()\n",
    "l6 = scores_df.sport_scores.to_list()\n",
    "econ, socio, cul, heal, poli, spor = get_clusters(l1, l2, l3, l4, l5, l6)"
   ]
  },
  {
   "cell_type": "code",
   "execution_count": 36,
   "metadata": {
    "execution": {
     "iopub.execute_input": "2020-12-15T00:43:22.184602Z",
     "iopub.status.busy": "2020-12-15T00:43:22.183932Z",
     "iopub.status.idle": "2020-12-15T00:43:22.265151Z",
     "shell.execute_reply": "2020-12-15T00:43:22.265722Z"
    },
    "papermill": {
     "duration": 0.163141,
     "end_time": "2020-12-15T00:43:22.265874",
     "exception": false,
     "start_time": "2020-12-15T00:43:22.102733",
     "status": "completed"
    },
    "tags": []
   },
   "outputs": [
    {
     "data": {
      "text/html": [
       "<div>\n",
       "<style scoped>\n",
       "    .dataframe tbody tr th:only-of-type {\n",
       "        vertical-align: middle;\n",
       "    }\n",
       "\n",
       "    .dataframe tbody tr th {\n",
       "        vertical-align: top;\n",
       "    }\n",
       "\n",
       "    .dataframe thead th {\n",
       "        text-align: right;\n",
       "    }\n",
       "</style>\n",
       "<table border=\"1\" class=\"dataframe\">\n",
       "  <thead>\n",
       "    <tr style=\"text-align: right;\">\n",
       "      <th></th>\n",
       "      <th>name</th>\n",
       "      <th>economic</th>\n",
       "      <th>social</th>\n",
       "      <th>culture</th>\n",
       "      <th>health</th>\n",
       "      <th>politics</th>\n",
       "      <th>sport</th>\n",
       "    </tr>\n",
       "  </thead>\n",
       "  <tbody>\n",
       "    <tr>\n",
       "      <th>0</th>\n",
       "      <td>ReaveleyBarbara</td>\n",
       "      <td>0</td>\n",
       "      <td>0</td>\n",
       "      <td>0</td>\n",
       "      <td>1</td>\n",
       "      <td>0</td>\n",
       "      <td>0</td>\n",
       "    </tr>\n",
       "    <tr>\n",
       "      <th>1</th>\n",
       "      <td>_letsbebadguys</td>\n",
       "      <td>1</td>\n",
       "      <td>0</td>\n",
       "      <td>1</td>\n",
       "      <td>0</td>\n",
       "      <td>0</td>\n",
       "      <td>1</td>\n",
       "    </tr>\n",
       "    <tr>\n",
       "      <th>2</th>\n",
       "      <td>aplemkseriously</td>\n",
       "      <td>0</td>\n",
       "      <td>0</td>\n",
       "      <td>0</td>\n",
       "      <td>1</td>\n",
       "      <td>0</td>\n",
       "      <td>0</td>\n",
       "    </tr>\n",
       "    <tr>\n",
       "      <th>3</th>\n",
       "      <td>FixSheltersNow</td>\n",
       "      <td>0</td>\n",
       "      <td>1</td>\n",
       "      <td>0</td>\n",
       "      <td>0</td>\n",
       "      <td>0</td>\n",
       "      <td>0</td>\n",
       "    </tr>\n",
       "    <tr>\n",
       "      <th>4</th>\n",
       "      <td>GrantThorntonAU</td>\n",
       "      <td>0</td>\n",
       "      <td>0</td>\n",
       "      <td>0</td>\n",
       "      <td>1</td>\n",
       "      <td>0</td>\n",
       "      <td>0</td>\n",
       "    </tr>\n",
       "    <tr>\n",
       "      <th>5</th>\n",
       "      <td>tacayler</td>\n",
       "      <td>0</td>\n",
       "      <td>0</td>\n",
       "      <td>0</td>\n",
       "      <td>1</td>\n",
       "      <td>0</td>\n",
       "      <td>0</td>\n",
       "    </tr>\n",
       "    <tr>\n",
       "      <th>6</th>\n",
       "      <td>OcKLQmEF8X7xluj</td>\n",
       "      <td>0</td>\n",
       "      <td>0</td>\n",
       "      <td>0</td>\n",
       "      <td>0</td>\n",
       "      <td>1</td>\n",
       "      <td>0</td>\n",
       "    </tr>\n",
       "    <tr>\n",
       "      <th>7</th>\n",
       "      <td>HalfonJulien</td>\n",
       "      <td>0</td>\n",
       "      <td>1</td>\n",
       "      <td>0</td>\n",
       "      <td>0</td>\n",
       "      <td>0</td>\n",
       "      <td>0</td>\n",
       "    </tr>\n",
       "    <tr>\n",
       "      <th>8</th>\n",
       "      <td>DrAparnaBole</td>\n",
       "      <td>0</td>\n",
       "      <td>0</td>\n",
       "      <td>0</td>\n",
       "      <td>1</td>\n",
       "      <td>0</td>\n",
       "      <td>0</td>\n",
       "    </tr>\n",
       "    <tr>\n",
       "      <th>9</th>\n",
       "      <td>JimmyDun</td>\n",
       "      <td>0</td>\n",
       "      <td>0</td>\n",
       "      <td>0</td>\n",
       "      <td>1</td>\n",
       "      <td>0</td>\n",
       "      <td>0</td>\n",
       "    </tr>\n",
       "  </tbody>\n",
       "</table>\n",
       "</div>"
      ],
      "text/plain": [
       "              name  economic  social  culture  health  politics  sport\n",
       "0  ReaveleyBarbara         0       0        0       1         0      0\n",
       "1   _letsbebadguys         1       0        1       0         0      1\n",
       "2  aplemkseriously         0       0        0       1         0      0\n",
       "3   FixSheltersNow         0       1        0       0         0      0\n",
       "4  GrantThorntonAU         0       0        0       1         0      0\n",
       "5         tacayler         0       0        0       1         0      0\n",
       "6  OcKLQmEF8X7xluj         0       0        0       0         1      0\n",
       "7     HalfonJulien         0       1        0       0         0      0\n",
       "8     DrAparnaBole         0       0        0       1         0      0\n",
       "9         JimmyDun         0       0        0       1         0      0"
      ]
     },
     "execution_count": 36,
     "metadata": {},
     "output_type": "execute_result"
    }
   ],
   "source": [
    "data = {'name': scores_df.names.to_list(), 'economic':econ, 'social':socio, 'culture':cul, 'health': heal, 'politics': poli, 'sport': spor}\n",
    "cluster_df = pd.DataFrame(data)\n",
    "cluster_df.head(10)"
   ]
  },
  {
   "cell_type": "code",
   "execution_count": 37,
   "metadata": {
    "execution": {
     "iopub.execute_input": "2020-12-15T00:43:22.426727Z",
     "iopub.status.busy": "2020-12-15T00:43:22.426102Z",
     "iopub.status.idle": "2020-12-15T00:43:22.474058Z",
     "shell.execute_reply": "2020-12-15T00:43:22.474620Z"
    },
    "papermill": {
     "duration": 0.129832,
     "end_time": "2020-12-15T00:43:22.474766",
     "exception": false,
     "start_time": "2020-12-15T00:43:22.344934",
     "status": "completed"
    },
    "tags": []
   },
   "outputs": [],
   "source": [
    "'''Due to the close similarity between the economic, social and health tweets, some tweets have multiple categories, \n",
    "so to take care of that the rows with a sum > 1 will have to share the categories. After this, clustering will take care \n",
    "of the fractions'''\n",
    "\n",
    "\n",
    "a =  cluster_df[['economic', 'social', 'culture', 'health','politics', 'sport']].sum(axis = 1) > 1\n",
    "c = cluster_df[['economic', 'social', 'culture', 'health','politics', 'sport']].sum(axis = 1)\n",
    "# b = cluster_df.copy()\n",
    "cluster_df.loc[(a), ['economic','social', 'culture', 'health','politics', 'sport']] = 1/c"
   ]
  },
  {
   "cell_type": "code",
   "execution_count": 38,
   "metadata": {
    "execution": {
     "iopub.execute_input": "2020-12-15T00:43:22.636787Z",
     "iopub.status.busy": "2020-12-15T00:43:22.635968Z",
     "iopub.status.idle": "2020-12-15T00:43:22.639125Z",
     "shell.execute_reply": "2020-12-15T00:43:22.639723Z"
    },
    "papermill": {
     "duration": 0.087045,
     "end_time": "2020-12-15T00:43:22.639872",
     "exception": false,
     "start_time": "2020-12-15T00:43:22.552827",
     "status": "completed"
    },
    "tags": []
   },
   "outputs": [
    {
     "data": {
      "text/plain": [
       "(20000, 7)"
      ]
     },
     "execution_count": 38,
     "metadata": {},
     "output_type": "execute_result"
    }
   ],
   "source": [
    "cluster_df.shape"
   ]
  },
  {
   "cell_type": "markdown",
   "metadata": {
    "papermill": {
     "duration": 0.078135,
     "end_time": "2020-12-15T00:43:22.797153",
     "exception": false,
     "start_time": "2020-12-15T00:43:22.719018",
     "status": "completed"
    },
    "tags": []
   },
   "source": [
    "#  Clustered Datasets: Question 4"
   ]
  },
  {
   "cell_type": "code",
   "execution_count": 39,
   "metadata": {
    "execution": {
     "iopub.execute_input": "2020-12-15T00:43:22.961126Z",
     "iopub.status.busy": "2020-12-15T00:43:22.960451Z",
     "iopub.status.idle": "2020-12-15T00:43:23.031395Z",
     "shell.execute_reply": "2020-12-15T00:43:23.030802Z"
    },
    "papermill": {
     "duration": 0.15298,
     "end_time": "2020-12-15T00:43:23.031524",
     "exception": false,
     "start_time": "2020-12-15T00:43:22.878544",
     "status": "completed"
    },
    "tags": []
   },
   "outputs": [
    {
     "name": "stdout",
     "output_type": "stream",
     "text": [
      "(18085, 7)\n"
     ]
    },
    {
     "data": {
      "text/html": [
       "<div>\n",
       "<style scoped>\n",
       "    .dataframe tbody tr th:only-of-type {\n",
       "        vertical-align: middle;\n",
       "    }\n",
       "\n",
       "    .dataframe tbody tr th {\n",
       "        vertical-align: top;\n",
       "    }\n",
       "\n",
       "    .dataframe thead th {\n",
       "        text-align: right;\n",
       "    }\n",
       "</style>\n",
       "<table border=\"1\" class=\"dataframe\">\n",
       "  <thead>\n",
       "    <tr style=\"text-align: right;\">\n",
       "      <th></th>\n",
       "      <th>economic</th>\n",
       "      <th>social</th>\n",
       "      <th>culture</th>\n",
       "      <th>health</th>\n",
       "      <th>politics</th>\n",
       "      <th>sport</th>\n",
       "      <th>total</th>\n",
       "    </tr>\n",
       "    <tr>\n",
       "      <th>name</th>\n",
       "      <th></th>\n",
       "      <th></th>\n",
       "      <th></th>\n",
       "      <th></th>\n",
       "      <th></th>\n",
       "      <th></th>\n",
       "      <th></th>\n",
       "    </tr>\n",
       "  </thead>\n",
       "  <tbody>\n",
       "    <tr>\n",
       "      <th>zulfanraga</th>\n",
       "      <td>0.000000</td>\n",
       "      <td>0.000000</td>\n",
       "      <td>0.000000</td>\n",
       "      <td>1.000000</td>\n",
       "      <td>0.000000</td>\n",
       "      <td>0.000000</td>\n",
       "      <td>1.0</td>\n",
       "    </tr>\n",
       "    <tr>\n",
       "      <th>zuneyaaa</th>\n",
       "      <td>0.333333</td>\n",
       "      <td>0.333333</td>\n",
       "      <td>0.333333</td>\n",
       "      <td>0.333333</td>\n",
       "      <td>0.333333</td>\n",
       "      <td>0.333333</td>\n",
       "      <td>2.0</td>\n",
       "    </tr>\n",
       "    <tr>\n",
       "      <th>zzsleeps</th>\n",
       "      <td>0.000000</td>\n",
       "      <td>0.000000</td>\n",
       "      <td>0.000000</td>\n",
       "      <td>1.000000</td>\n",
       "      <td>0.000000</td>\n",
       "      <td>0.000000</td>\n",
       "      <td>1.0</td>\n",
       "    </tr>\n",
       "    <tr>\n",
       "      <th>zzzbeeme</th>\n",
       "      <td>0.000000</td>\n",
       "      <td>0.000000</td>\n",
       "      <td>0.000000</td>\n",
       "      <td>1.000000</td>\n",
       "      <td>0.000000</td>\n",
       "      <td>0.000000</td>\n",
       "      <td>1.0</td>\n",
       "    </tr>\n",
       "    <tr>\n",
       "      <th>Total</th>\n",
       "      <td>682.500000</td>\n",
       "      <td>2897.500000</td>\n",
       "      <td>682.500000</td>\n",
       "      <td>15956.500000</td>\n",
       "      <td>906.500000</td>\n",
       "      <td>682.500000</td>\n",
       "      <td>21808.0</td>\n",
       "    </tr>\n",
       "  </tbody>\n",
       "</table>\n",
       "</div>"
      ],
      "text/plain": [
       "              economic       social     culture        health    politics  \\\n",
       "name                                                                        \n",
       "zulfanraga    0.000000     0.000000    0.000000      1.000000    0.000000   \n",
       "zuneyaaa      0.333333     0.333333    0.333333      0.333333    0.333333   \n",
       "zzsleeps      0.000000     0.000000    0.000000      1.000000    0.000000   \n",
       "zzzbeeme      0.000000     0.000000    0.000000      1.000000    0.000000   \n",
       "Total       682.500000  2897.500000  682.500000  15956.500000  906.500000   \n",
       "\n",
       "                 sport    total  \n",
       "name                             \n",
       "zulfanraga    0.000000      1.0  \n",
       "zuneyaaa      0.333333      2.0  \n",
       "zzsleeps      0.000000      1.0  \n",
       "zzzbeeme      0.000000      1.0  \n",
       "Total       682.500000  21808.0  "
      ]
     },
     "execution_count": 39,
     "metadata": {},
     "output_type": "execute_result"
    }
   ],
   "source": [
    "pivot_clusters = cluster_df.groupby(['name']).sum()\n",
    "#pivot_clusters['economic'] = pivot_clusters['economic'].astype(int)\n",
    "#pivot_clusters['social'] = pivot_clusters['social'].astype(int)\n",
    "#pivot_clusters['culture'] = pivot_clusters['culture'].astype(int)\n",
    "#pivot_clusters['health'] = pivot_clusters['health'].astype(int)\n",
    "#pivot_clusters['politics'] = pivot_clusters['politics'].astype(int)\n",
    "#pivot_clusters['sport'] = pivot_clusters['sport'].astype(int)\n",
    "pivot_clusters['total'] = pivot_clusters['health'] + pivot_clusters['culture'] + pivot_clusters['social'] +  pivot_clusters['economic'] + pivot_clusters['politics'] + pivot_clusters['sport']\n",
    "pivot_clusters.loc[\"Total\"] = pivot_clusters.sum()  #add a totals row\n",
    "print(pivot_clusters.shape)\n",
    "pivot_clusters.tail()"
   ]
  },
  {
   "cell_type": "markdown",
   "metadata": {
    "papermill": {
     "duration": 0.079831,
     "end_time": "2020-12-15T00:43:23.191076",
     "exception": false,
     "start_time": "2020-12-15T00:43:23.111245",
     "status": "completed"
    },
    "tags": []
   },
   "source": [
    "* A pie chart to display the total number of tweets in each category"
   ]
  },
  {
   "cell_type": "code",
   "execution_count": 40,
   "metadata": {
    "execution": {
     "iopub.execute_input": "2020-12-15T00:43:23.357114Z",
     "iopub.status.busy": "2020-12-15T00:43:23.356386Z",
     "iopub.status.idle": "2020-12-15T00:43:23.506049Z",
     "shell.execute_reply": "2020-12-15T00:43:23.506569Z"
    },
    "papermill": {
     "duration": 0.236023,
     "end_time": "2020-12-15T00:43:23.506710",
     "exception": false,
     "start_time": "2020-12-15T00:43:23.270687",
     "status": "completed"
    },
    "tags": []
   },
   "outputs": [
    {
     "data": {
      "image/png": "[encoded data removed]",
      "text/plain": [
       "<Figure size 720x1440 with 1 Axes>"
      ]
     },
     "metadata": {},
     "output_type": "display_data"
    }
   ],
   "source": [
    "fig = plt.figure(figsize =(10, 20)) \n",
    "a = pivot_clusters.drop(['total'], axis = 1)\n",
    "plt.pie(a.loc['Total'], labels = a.columns)\n",
    "plt.title('A pie chart showing the volumes of tweets under different categories.')\n",
    "plt.show()"
   ]
  },
  {
   "cell_type": "markdown",
   "metadata": {
    "papermill": {
     "duration": 0.080376,
     "end_time": "2020-12-15T00:43:23.668297",
     "exception": false,
     "start_time": "2020-12-15T00:43:23.587921",
     "status": "completed"
    },
    "tags": []
   },
   "source": [
    "The huge percentage in health could be as a result of the current pandemic, Covid19, everyone is talking about it thus a huge volume of tweets. .\n",
    "\n",
    "The social tweets follow, this could be related to the set of words defined as words related to social. Most of these terms are general, thus if a tweet that maybe was more economy related could have more social words than economy words and thus classified as social, so this is mainnly a bias in the classification method."
   ]
  },
  {
   "cell_type": "markdown",
   "metadata": {
    "papermill": {
     "duration": 0.081599,
     "end_time": "2020-12-15T00:43:23.833716",
     "exception": false,
     "start_time": "2020-12-15T00:43:23.752117",
     "status": "completed"
    },
    "tags": []
   },
   "source": [
    "* Users with most tweets"
   ]
  },
  {
   "cell_type": "code",
   "execution_count": 41,
   "metadata": {
    "execution": {
     "iopub.execute_input": "2020-12-15T00:43:24.001673Z",
     "iopub.status.busy": "2020-12-15T00:43:24.000692Z",
     "iopub.status.idle": "2020-12-15T00:43:24.257950Z",
     "shell.execute_reply": "2020-12-15T00:43:24.258451Z"
    },
    "papermill": {
     "duration": 0.342569,
     "end_time": "2020-12-15T00:43:24.258609",
     "exception": false,
     "start_time": "2020-12-15T00:43:23.916040",
     "status": "completed"
    },
    "tags": []
   },
   "outputs": [
    {
     "name": "stderr",
     "output_type": "stream",
     "text": [
      "/opt/conda/lib/python3.7/site-packages/pandas/core/frame.py:4174: SettingWithCopyWarning: \n",
      "A value is trying to be set on a copy of a slice from a DataFrame\n",
      "\n",
      "See the caveats in the documentation: https://pandas.pydata.org/pandas-docs/stable/user_guide/indexing.html#returning-a-view-versus-a-copy\n",
      "  errors=errors,\n"
     ]
    },
    {
     "data": {
      "text/plain": [
       "Text(0, 0.5, 'total tweets')"
      ]
     },
     "execution_count": 41,
     "metadata": {},
     "output_type": "execute_result"
    },
    {
     "data": {
      "image/png": "[encoded data removed]",
      "text/plain": [
       "<Figure size 864x720 with 1 Axes>"
      ]
     },
     "metadata": {
      "needs_background": "light"
     },
     "output_type": "display_data"
    }
   ],
   "source": [
    "d = pivot_clusters.sort_values(by = 'total', ascending  = False)\n",
    "e = d.head(15)\n",
    "e.drop(e.head(1).index, inplace=True)\n",
    "\n",
    "plt.figure(figsize=(12,10))\n",
    "sns.barplot(x = e.index, y = e.total)\n",
    "plt.title('A bar plot showing top tweeps based on volume of tweets')\n",
    "plt.xticks(rotation=45)\n",
    "plt.xlabel('user')\n",
    "plt.ylabel('total tweets')"
   ]
  },
  {
   "cell_type": "code",
   "execution_count": 42,
   "metadata": {
    "execution": {
     "iopub.execute_input": "2020-12-15T00:43:24.428755Z",
     "iopub.status.busy": "2020-12-15T00:43:24.428126Z",
     "iopub.status.idle": "2020-12-15T00:43:24.667698Z",
     "shell.execute_reply": "2020-12-15T00:43:24.668320Z"
    },
    "papermill": {
     "duration": 0.326292,
     "end_time": "2020-12-15T00:43:24.668464",
     "exception": false,
     "start_time": "2020-12-15T00:43:24.342172",
     "status": "completed"
    },
    "tags": []
   },
   "outputs": [
    {
     "data": {
      "text/plain": [
       "Text(0, 0.5, 'sport tweets')"
      ]
     },
     "execution_count": 42,
     "metadata": {},
     "output_type": "execute_result"
    },
    {
     "data": {
      "image/png": "[encoded data removed]",
      "text/plain": [
       "<Figure size 864x720 with 1 Axes>"
      ]
     },
     "metadata": {
      "needs_background": "light"
     },
     "output_type": "display_data"
    }
   ],
   "source": [
    "d = pivot_clusters.sort_values(by = 'sport', ascending  = False)\n",
    "e = d.head(15)\n",
    "e.drop(e.head(1).index, inplace=True)\n",
    "\n",
    "plt.figure(figsize=(12,10))\n",
    "sns.barplot(x = e.index, y = e.sport)\n",
    "plt.title('A bar plot showing top tweeps based on volume of sport tweets')\n",
    "plt.xticks(rotation=50)\n",
    "plt.xlabel('user')\n",
    "plt.ylabel('sport tweets')"
   ]
  },
  {
   "cell_type": "markdown",
   "metadata": {
    "papermill": {
     "duration": 0.085589,
     "end_time": "2020-12-15T00:43:24.841576",
     "exception": false,
     "start_time": "2020-12-15T00:43:24.755987",
     "status": "completed"
    },
    "tags": []
   },
   "source": [
    "* Users with most politics tweets"
   ]
  },
  {
   "cell_type": "code",
   "execution_count": 43,
   "metadata": {
    "execution": {
     "iopub.execute_input": "2020-12-15T00:43:25.018346Z",
     "iopub.status.busy": "2020-12-15T00:43:25.017668Z",
     "iopub.status.idle": "2020-12-15T00:43:25.264928Z",
     "shell.execute_reply": "2020-12-15T00:43:25.265494Z"
    },
    "papermill": {
     "duration": 0.337578,
     "end_time": "2020-12-15T00:43:25.265671",
     "exception": false,
     "start_time": "2020-12-15T00:43:24.928093",
     "status": "completed"
    },
    "tags": []
   },
   "outputs": [
    {
     "data": {
      "text/plain": [
       "Text(0, 0.5, 'politics tweets')"
      ]
     },
     "execution_count": 43,
     "metadata": {},
     "output_type": "execute_result"
    },
    {
     "data": {
      "image/png": "[encoded data removed]",
      "text/plain": [
       "<Figure size 864x720 with 1 Axes>"
      ]
     },
     "metadata": {
      "needs_background": "light"
     },
     "output_type": "display_data"
    }
   ],
   "source": [
    "d = pivot_clusters.sort_values(by = 'politics', ascending  = False)\n",
    "e = d.head(15)\n",
    "e.drop(e.head(2).index, inplace=True)\n",
    "\n",
    "plt.figure(figsize=(12,10))\n",
    "sns.barplot(x = e.index, y = e.politics)\n",
    "plt.title('A bar plot showing top tweeps based on volume of politics tweets')\n",
    "plt.xticks(rotation=60)\n",
    "plt.xlabel('user')\n",
    "plt.ylabel('politics tweets')"
   ]
  },
  {
   "cell_type": "markdown",
   "metadata": {
    "papermill": {
     "duration": 0.087456,
     "end_time": "2020-12-15T00:43:25.441169",
     "exception": false,
     "start_time": "2020-12-15T00:43:25.353713",
     "status": "completed"
    },
    "tags": []
   },
   "source": [
    "*  Users with most economy tweets"
   ]
  },
  {
   "cell_type": "code",
   "execution_count": 44,
   "metadata": {
    "execution": {
     "iopub.execute_input": "2020-12-15T00:43:25.625421Z",
     "iopub.status.busy": "2020-12-15T00:43:25.623692Z",
     "iopub.status.idle": "2020-12-15T00:43:25.865716Z",
     "shell.execute_reply": "2020-12-15T00:43:25.865198Z"
    },
    "papermill": {
     "duration": 0.335203,
     "end_time": "2020-12-15T00:43:25.865842",
     "exception": false,
     "start_time": "2020-12-15T00:43:25.530639",
     "status": "completed"
    },
    "tags": []
   },
   "outputs": [
    {
     "data": {
      "text/plain": [
       "Text(0, 0.5, 'economy tweets')"
      ]
     },
     "execution_count": 44,
     "metadata": {},
     "output_type": "execute_result"
    },
    {
     "data": {
      "image/png": "[encoded data removed]",
      "text/plain": [
       "<Figure size 864x720 with 1 Axes>"
      ]
     },
     "metadata": {
      "needs_background": "light"
     },
     "output_type": "display_data"
    }
   ],
   "source": [
    "d = pivot_clusters.sort_values(by = 'economic', ascending  = False)\n",
    "e = d.head(15)\n",
    "e.drop(e.head(2).index, inplace=True)\n",
    "\n",
    "plt.figure(figsize=(12,10))\n",
    "sns.barplot(x = e.index, y = e.economic)\n",
    "plt.title('A bar plot showing top tweeps based on volume of economy tweets')\n",
    "plt.xticks(rotation=45)\n",
    "plt.xlabel('user')\n",
    "plt.ylabel('economy tweets')"
   ]
  },
  {
   "cell_type": "markdown",
   "metadata": {
    "papermill": {
     "duration": 0.090524,
     "end_time": "2020-12-15T00:43:26.045840",
     "exception": false,
     "start_time": "2020-12-15T00:43:25.955316",
     "status": "completed"
    },
    "tags": []
   },
   "source": [
    "*  Users with most social tweets"
   ]
  },
  {
   "cell_type": "code",
   "execution_count": 45,
   "metadata": {
    "execution": {
     "iopub.execute_input": "2020-12-15T00:43:26.235258Z",
     "iopub.status.busy": "2020-12-15T00:43:26.234304Z",
     "iopub.status.idle": "2020-12-15T00:43:26.475820Z",
     "shell.execute_reply": "2020-12-15T00:43:26.475172Z"
    },
    "papermill": {
     "duration": 0.340835,
     "end_time": "2020-12-15T00:43:26.475933",
     "exception": false,
     "start_time": "2020-12-15T00:43:26.135098",
     "status": "completed"
    },
    "tags": []
   },
   "outputs": [
    {
     "data": {
      "text/plain": [
       "Text(0, 0.5, 'social tweets')"
      ]
     },
     "execution_count": 45,
     "metadata": {},
     "output_type": "execute_result"
    },
    {
     "data": {
      "image/png": "[encoded data removed]",
      "text/plain": [
       "<Figure size 864x720 with 1 Axes>"
      ]
     },
     "metadata": {
      "needs_background": "light"
     },
     "output_type": "display_data"
    }
   ],
   "source": [
    "d = pivot_clusters.sort_values(by = 'social', ascending  = False)\n",
    "e = d.head(15)\n",
    "e.drop(e.head(1).index, inplace=True)\n",
    "\n",
    "\n",
    "plt.figure(figsize=(12,10))\n",
    "sns.barplot(x = e.index, y = e.social)\n",
    "plt.title('A bar plot showing top tweeps based on volume of social tweets')\n",
    "plt.xticks(rotation=45)\n",
    "plt.xlabel('user')\n",
    "plt.ylabel('social tweets')"
   ]
  },
  {
   "cell_type": "markdown",
   "metadata": {
    "papermill": {
     "duration": 0.08981,
     "end_time": "2020-12-15T00:43:26.656197",
     "exception": false,
     "start_time": "2020-12-15T00:43:26.566387",
     "status": "completed"
    },
    "tags": []
   },
   "source": [
    "* Users with most culture tweets\n"
   ]
  },
  {
   "cell_type": "code",
   "execution_count": 46,
   "metadata": {
    "execution": {
     "iopub.execute_input": "2020-12-15T00:43:26.849227Z",
     "iopub.status.busy": "2020-12-15T00:43:26.848472Z",
     "iopub.status.idle": "2020-12-15T00:43:27.095399Z",
     "shell.execute_reply": "2020-12-15T00:43:27.094731Z"
    },
    "papermill": {
     "duration": 0.347151,
     "end_time": "2020-12-15T00:43:27.095533",
     "exception": false,
     "start_time": "2020-12-15T00:43:26.748382",
     "status": "completed"
    },
    "tags": []
   },
   "outputs": [
    {
     "data": {
      "text/plain": [
       "Text(0, 0.5, 'culture tweets')"
      ]
     },
     "execution_count": 46,
     "metadata": {},
     "output_type": "execute_result"
    },
    {
     "data": {
      "image/png": "[encoded data removed]",
      "text/plain": [
       "<Figure size 864x720 with 1 Axes>"
      ]
     },
     "metadata": {
      "needs_background": "light"
     },
     "output_type": "display_data"
    }
   ],
   "source": [
    "d = pivot_clusters.sort_values(by = 'culture', ascending  = False)\n",
    "e = d.head(15)\n",
    "e.drop(e.head(1).index, inplace=True)\n",
    "\n",
    "\n",
    "plt.figure(figsize=(12,10))\n",
    "sns.barplot(x = e.index, y = e.culture)\n",
    "plt.title('A bar plot showing top tweeps based on volume of culture tweets')\n",
    "plt.xticks(rotation=45)\n",
    "plt.xlabel('user')\n",
    "plt.ylabel('culture tweets')"
   ]
  },
  {
   "cell_type": "markdown",
   "metadata": {
    "papermill": {
     "duration": 0.112832,
     "end_time": "2020-12-15T00:43:27.302311",
     "exception": false,
     "start_time": "2020-12-15T00:43:27.189479",
     "status": "completed"
    },
    "tags": []
   },
   "source": [
    "*  Users with most health tweets"
   ]
  },
  {
   "cell_type": "code",
   "execution_count": 47,
   "metadata": {
    "execution": {
     "iopub.execute_input": "2020-12-15T00:43:27.500988Z",
     "iopub.status.busy": "2020-12-15T00:43:27.500312Z",
     "iopub.status.idle": "2020-12-15T00:43:27.910038Z",
     "shell.execute_reply": "2020-12-15T00:43:27.909016Z"
    },
    "papermill": {
     "duration": 0.510469,
     "end_time": "2020-12-15T00:43:27.910164",
     "exception": false,
     "start_time": "2020-12-15T00:43:27.399695",
     "status": "completed"
    },
    "tags": []
   },
   "outputs": [
    {
     "data": {
      "text/plain": [
       "Text(0, 0.5, 'health tweets')"
      ]
     },
     "execution_count": 47,
     "metadata": {},
     "output_type": "execute_result"
    },
    {
     "data": {
      "image/png": "[encoded data removed]",
      "text/plain": [
       "<Figure size 864x864 with 1 Axes>"
      ]
     },
     "metadata": {
      "needs_background": "light"
     },
     "output_type": "display_data"
    }
   ],
   "source": [
    "d = pivot_clusters.sort_values(by = 'health', ascending  = False)\n",
    "e = d.head(15)\n",
    "e.drop(e.head(1).index, inplace=True)\n",
    "\n",
    "\n",
    "plt.figure(figsize=(12,12))\n",
    "sns.barplot(x = e.index, y = e.health)\n",
    "plt.title('A bar plot showing top tweeps based on volume of health tweets')\n",
    "plt.xticks(rotation=45)\n",
    "plt.xlabel('user')\n",
    "plt.ylabel('health tweets')"
   ]
  },
  {
   "cell_type": "markdown",
   "metadata": {
    "papermill": {
     "duration": 0.094439,
     "end_time": "2020-12-15T00:43:28.099649",
     "exception": false,
     "start_time": "2020-12-15T00:43:28.005210",
     "status": "completed"
    },
    "tags": []
   },
   "source": [
    "Distribution test and skewness"
   ]
  },
  {
   "cell_type": "code",
   "execution_count": 48,
   "metadata": {
    "execution": {
     "iopub.execute_input": "2020-12-15T00:43:28.295729Z",
     "iopub.status.busy": "2020-12-15T00:43:28.295047Z",
     "iopub.status.idle": "2020-12-15T00:43:28.300749Z",
     "shell.execute_reply": "2020-12-15T00:43:28.300072Z"
    },
    "papermill": {
     "duration": 0.106125,
     "end_time": "2020-12-15T00:43:28.300864",
     "exception": false,
     "start_time": "2020-12-15T00:43:28.194739",
     "status": "completed"
    },
    "tags": []
   },
   "outputs": [],
   "source": [
    "from statistics import mean\n",
    "import re\n",
    "from scipy import stats\n",
    "from scipy.stats import skew, norm\n",
    "from scipy.special import boxcox1p\n",
    "from scipy.stats import boxcox_normmax\n",
    "from sklearn.preprocessing import StandardScaler"
   ]
  },
  {
   "cell_type": "code",
   "execution_count": 49,
   "metadata": {
    "execution": {
     "iopub.execute_input": "2020-12-15T00:43:28.501251Z",
     "iopub.status.busy": "2020-12-15T00:43:28.500341Z",
     "iopub.status.idle": "2020-12-15T00:43:28.505487Z",
     "shell.execute_reply": "2020-12-15T00:43:28.506030Z"
    },
    "papermill": {
     "duration": 0.110442,
     "end_time": "2020-12-15T00:43:28.506172",
     "exception": false,
     "start_time": "2020-12-15T00:43:28.395730",
     "status": "completed"
    },
    "tags": []
   },
   "outputs": [
    {
     "name": "stdout",
     "output_type": "stream",
     "text": [
      "(18085, 7)\n",
      "(18084, 7)\n"
     ]
    }
   ],
   "source": [
    "# drop the totals row.\n",
    "print(pivot_clusters.shape)\n",
    "pivot_clusters.drop(pivot_clusters.tail(1).index,inplace=True)\n",
    "print(pivot_clusters.shape)"
   ]
  },
  {
   "cell_type": "markdown",
   "metadata": {
    "papermill": {
     "duration": 0.095955,
     "end_time": "2020-12-15T00:43:28.696597",
     "exception": false,
     "start_time": "2020-12-15T00:43:28.600642",
     "status": "completed"
    },
    "tags": []
   },
   "source": [
    "# KMeans Clustering."
   ]
  },
  {
   "cell_type": "markdown",
   "metadata": {
    "papermill": {
     "duration": 0.097393,
     "end_time": "2020-12-15T00:43:28.889966",
     "exception": false,
     "start_time": "2020-12-15T00:43:28.792573",
     "status": "completed"
    },
    "tags": []
   },
   "source": [
    "2D Clusters\n"
   ]
  },
  {
   "cell_type": "code",
   "execution_count": 50,
   "metadata": {
    "execution": {
     "iopub.execute_input": "2020-12-15T00:43:29.088034Z",
     "iopub.status.busy": "2020-12-15T00:43:29.087216Z",
     "iopub.status.idle": "2020-12-15T00:43:29.248785Z",
     "shell.execute_reply": "2020-12-15T00:43:29.249323Z"
    },
    "papermill": {
     "duration": 0.262332,
     "end_time": "2020-12-15T00:43:29.249480",
     "exception": false,
     "start_time": "2020-12-15T00:43:28.987148",
     "status": "completed"
    },
    "tags": []
   },
   "outputs": [],
   "source": [
    "from sklearn.cluster import KMeans"
   ]
  },
  {
   "cell_type": "markdown",
   "metadata": {
    "papermill": {
     "duration": 0.094672,
     "end_time": "2020-12-15T00:43:29.439576",
     "exception": false,
     "start_time": "2020-12-15T00:43:29.344904",
     "status": "completed"
    },
    "tags": []
   },
   "source": [
    "* Politics-Sport"
   ]
  },
  {
   "cell_type": "code",
   "execution_count": 51,
   "metadata": {
    "execution": {
     "iopub.execute_input": "2020-12-15T00:43:29.638627Z",
     "iopub.status.busy": "2020-12-15T00:43:29.637953Z",
     "iopub.status.idle": "2020-12-15T00:43:30.902032Z",
     "shell.execute_reply": "2020-12-15T00:43:30.902879Z"
    },
    "papermill": {
     "duration": 1.368416,
     "end_time": "2020-12-15T00:43:30.903073",
     "exception": false,
     "start_time": "2020-12-15T00:43:29.534657",
     "status": "completed"
    },
    "tags": []
   },
   "outputs": [
    {
     "data": {
      "image/png": "[encoded data removed]",
      "text/plain": [
       "<Figure size 432x288 with 1 Axes>"
      ]
     },
     "metadata": {
      "needs_background": "light"
     },
     "output_type": "display_data"
    }
   ],
   "source": [
    "# X = pivot_clusters.iloc[:, [0,1]].values\n",
    "X = pivot_clusters[['politics', 'sport']].values\n",
    "\n",
    "# Elbow Method\n",
    "from sklearn.cluster import KMeans\n",
    "wcss = []\n",
    "for i in range(1, 11):\n",
    "    kmeans = KMeans(n_clusters=i, init='k-means++', n_init=10, max_iter=300, random_state=0)\n",
    "    kmeans.fit(X)\n",
    "    wcss.append(kmeans.inertia_)\n",
    "plt.plot(range(1,11), wcss)\n",
    "plt.title('Elbow Method')\n",
    "plt.xlabel('Number of Clusters')\n",
    "plt.ylabel('wcss')\n",
    "plt.show()"
   ]
  },
  {
   "cell_type": "code",
   "execution_count": 52,
   "metadata": {
    "execution": {
     "iopub.execute_input": "2020-12-15T00:43:31.119931Z",
     "iopub.status.busy": "2020-12-15T00:43:31.119175Z",
     "iopub.status.idle": "2020-12-15T00:43:31.775552Z",
     "shell.execute_reply": "2020-12-15T00:43:31.776395Z"
    },
    "papermill": {
     "duration": 0.775017,
     "end_time": "2020-12-15T00:43:31.776600",
     "exception": false,
     "start_time": "2020-12-15T00:43:31.001583",
     "status": "completed"
    },
    "tags": []
   },
   "outputs": [
    {
     "data": {
      "image/png": "[encoded data removed]",
      "text/plain": [
       "<Figure size 432x288 with 1 Axes>"
      ]
     },
     "metadata": {
      "needs_background": "light"
     },
     "output_type": "display_data"
    }
   ],
   "source": [
    "# fitting kmeans to dataset\n",
    "kmeans = KMeans(n_clusters=3, init='k-means++', n_init=10, max_iter=300, random_state=0)\n",
    "Y_kmeans = kmeans.fit_predict(X)\n",
    "\n",
    "# Visualising the clusters\n",
    "plt.scatter(X[Y_kmeans==0, 0], X[Y_kmeans==0, 1], s=100, c='violet', label= 'Cluster 1')\n",
    "plt.scatter(X[Y_kmeans==1, 0], X[Y_kmeans==1, 1], s=100, c='cyan', label= 'Cluster 2')\n",
    "plt.scatter(X[Y_kmeans==2, 0], X[Y_kmeans==2, 1], s=100, c='green', label= 'Cluster 3')\n",
    "#plt.scatter(X[Y_kmeans==3, 0], X[Y_kmeans==3, 1], s=100, c='blue', label= 'Cluster 4')\n",
    "#plt.scatter(X[Y_kmeans==4, 0], X[Y_kmeans==4, 1], s=100, c='magenta', label= 'Cluster 5')\n",
    "plt.scatter(kmeans.cluster_centers_[:, 0], kmeans.cluster_centers_[:, 1], s=100, c='black', label='Centroids' )\n",
    "plt.title('Clusters of tweets in politics and sport groups')\n",
    "plt.xlabel('politics tweets')\n",
    "plt.ylabel('sport tweets')\n",
    "plt.legend()\n",
    "plt.show()"
   ]
  },
  {
   "cell_type": "markdown",
   "metadata": {
    "papermill": {
     "duration": 0.107802,
     "end_time": "2020-12-15T00:43:31.989654",
     "exception": false,
     "start_time": "2020-12-15T00:43:31.881852",
     "status": "completed"
    },
    "tags": []
   },
   "source": [
    "* Economic-Social"
   ]
  },
  {
   "cell_type": "code",
   "execution_count": 53,
   "metadata": {
    "execution": {
     "iopub.execute_input": "2020-12-15T00:43:32.190393Z",
     "iopub.status.busy": "2020-12-15T00:43:32.189330Z",
     "iopub.status.idle": "2020-12-15T00:43:33.513076Z",
     "shell.execute_reply": "2020-12-15T00:43:33.513812Z"
    },
    "papermill": {
     "duration": 1.425902,
     "end_time": "2020-12-15T00:43:33.513995",
     "exception": false,
     "start_time": "2020-12-15T00:43:32.088093",
     "status": "completed"
    },
    "tags": []
   },
   "outputs": [
    {
     "data": {
      "image/png": "[encoded data removed]",
      "text/plain": [
       "<Figure size 432x288 with 1 Axes>"
      ]
     },
     "metadata": {
      "needs_background": "light"
     },
     "output_type": "display_data"
    }
   ],
   "source": [
    "# X = pivot_clusters.iloc[:, [0,1]].values\n",
    "X = pivot_clusters[['economic', 'social']].values\n",
    "\n",
    "# Elbow Method\n",
    "from sklearn.cluster import KMeans\n",
    "wcss = []\n",
    "for i in range(1, 11):\n",
    "    kmeans = KMeans(n_clusters=i, init='k-means++', n_init=10, max_iter=300, random_state=0)\n",
    "    kmeans.fit(X)\n",
    "    wcss.append(kmeans.inertia_)\n",
    "plt.plot(range(1,11), wcss)\n",
    "plt.title('Elbow Method')\n",
    "plt.xlabel('Number of Clusters')\n",
    "plt.ylabel('wcss')\n",
    "plt.show()"
   ]
  },
  {
   "cell_type": "code",
   "execution_count": 54,
   "metadata": {
    "execution": {
     "iopub.execute_input": "2020-12-15T00:43:33.728949Z",
     "iopub.status.busy": "2020-12-15T00:43:33.728174Z",
     "iopub.status.idle": "2020-12-15T00:43:34.272184Z",
     "shell.execute_reply": "2020-12-15T00:43:34.271663Z"
    },
    "papermill": {
     "duration": 0.655215,
     "end_time": "2020-12-15T00:43:34.272301",
     "exception": false,
     "start_time": "2020-12-15T00:43:33.617086",
     "status": "completed"
    },
    "tags": []
   },
   "outputs": [
    {
     "data": {
      "image/png": "[encoded data removed]",
      "text/plain": [
       "<Figure size 432x288 with 1 Axes>"
      ]
     },
     "metadata": {
      "needs_background": "light"
     },
     "output_type": "display_data"
    }
   ],
   "source": [
    "# fitting kmeans to dataset\n",
    "kmeans = KMeans(n_clusters=3, init='k-means++', n_init=10, max_iter=300, random_state=0)\n",
    "Y_kmeans = kmeans.fit_predict(X)\n",
    "\n",
    "# Visualising the clusters\n",
    "plt.scatter(X[Y_kmeans==0, 0], X[Y_kmeans==0, 1], s=100, c='violet', label= 'Cluster 1')\n",
    "plt.scatter(X[Y_kmeans==1, 0], X[Y_kmeans==1, 1], s=100, c='cyan', label= 'Cluster 2')\n",
    "plt.scatter(X[Y_kmeans==2, 0], X[Y_kmeans==2, 1], s=100, c='green', label= 'Cluster 3')\n",
    "# plt.scatter(X[Y_kmeans==3, 0], X[Y_kmeans==3, 1], s=100, c='blue', label= 'Cluster 4')\n",
    "# plt.scatter(X[Y_kmeans==4, 0], X[Y_kmeans==4, 1], s=100, c='magenta', label= 'Cluster 5')\n",
    "plt.scatter(kmeans.cluster_centers_[:, 0], kmeans.cluster_centers_[:, 1], s=100, c='black', label='Centroids' )\n",
    "plt.title('Clusters of tweets in economic and social groups')\n",
    "plt.xlabel('economic tweets')\n",
    "plt.ylabel('social tweets')\n",
    "plt.legend()\n",
    "plt.show()"
   ]
  },
  {
   "cell_type": "markdown",
   "metadata": {
    "papermill": {
     "duration": 0.09967,
     "end_time": "2020-12-15T00:43:34.470958",
     "exception": false,
     "start_time": "2020-12-15T00:43:34.371288",
     "status": "completed"
    },
    "tags": []
   },
   "source": [
    "* Sociol-Culture"
   ]
  },
  {
   "cell_type": "code",
   "execution_count": 55,
   "metadata": {
    "execution": {
     "iopub.execute_input": "2020-12-15T00:43:34.681474Z",
     "iopub.status.busy": "2020-12-15T00:43:34.680794Z",
     "iopub.status.idle": "2020-12-15T00:43:35.882219Z",
     "shell.execute_reply": "2020-12-15T00:43:35.882799Z"
    },
    "papermill": {
     "duration": 1.312244,
     "end_time": "2020-12-15T00:43:35.882971",
     "exception": false,
     "start_time": "2020-12-15T00:43:34.570727",
     "status": "completed"
    },
    "tags": []
   },
   "outputs": [
    {
     "data": {
      "image/png": "[encoded data removed]",
      "text/plain": [
       "<Figure size 432x288 with 1 Axes>"
      ]
     },
     "metadata": {
      "needs_background": "light"
     },
     "output_type": "display_data"
    }
   ],
   "source": [
    "\n",
    "# X = pivot_clusters.iloc[:, [2,3]].values\n",
    "X = pivot_clusters[['social', 'culture']].values\n",
    "\n",
    "# Elbow Method\n",
    "from sklearn.cluster import KMeans\n",
    "wcss = []\n",
    "for i in range(1, 11):\n",
    "    kmeans = KMeans(n_clusters=i, init='k-means++', n_init=10, max_iter=300, random_state=0)\n",
    "    kmeans.fit(X)\n",
    "    wcss.append(kmeans.inertia_)\n",
    "plt.plot(range(1,11), wcss)\n",
    "plt.title('Elbow Method')\n",
    "plt.xlabel('Number of Clusters')\n",
    "plt.ylabel('wcss')\n",
    "plt.show()"
   ]
  },
  {
   "cell_type": "code",
   "execution_count": 56,
   "metadata": {
    "execution": {
     "iopub.execute_input": "2020-12-15T00:43:36.098658Z",
     "iopub.status.busy": "2020-12-15T00:43:36.097953Z",
     "iopub.status.idle": "2020-12-15T00:43:36.643628Z",
     "shell.execute_reply": "2020-12-15T00:43:36.642962Z"
    },
    "papermill": {
     "duration": 0.656036,
     "end_time": "2020-12-15T00:43:36.643756",
     "exception": false,
     "start_time": "2020-12-15T00:43:35.987720",
     "status": "completed"
    },
    "tags": []
   },
   "outputs": [
    {
     "data": {
      "image/png": "[encoded data removed]",
      "text/plain": [
       "<Figure size 432x288 with 1 Axes>"
      ]
     },
     "metadata": {
      "needs_background": "light"
     },
     "output_type": "display_data"
    }
   ],
   "source": [
    "# fitting kmeans to dataset\n",
    "kmeans = KMeans(n_clusters=3, init='k-means++', n_init=10, max_iter=300, random_state=0)\n",
    "Y_kmeans = kmeans.fit_predict(X)\n",
    "\n",
    "# Visualising the clusters\n",
    "plt.scatter(X[Y_kmeans==0, 0], X[Y_kmeans==0, 1], s=100, c='violet', label= 'Cluster 1')\n",
    "plt.scatter(X[Y_kmeans==1, 0], X[Y_kmeans==1, 1], s=100, c='cyan', label= 'Cluster 2')\n",
    "plt.scatter(X[Y_kmeans==2, 0], X[Y_kmeans==2, 1], s=100, c='green', label= 'Cluster 3')\n",
    "# plt.scatter(X[Y_kmeans==3, 0], X[Y_kmeans==3, 1], s=100, c='blue', label= 'Cluster 4')\n",
    "# plt.scatter(X[Y_kmeans==4, 0], X[Y_kmeans==4, 1], s=100, c='magenta', label= 'Cluster 5')\n",
    "# plt.scatter(X[Y_kmeans==5, 0], X[Y_kmeans==5, 1], s=100, c='pink', label= 'Cluster 6')\n",
    "\n",
    "plt.scatter(kmeans.cluster_centers_[:, 0], kmeans.cluster_centers_[:, 1], s=100, c='black', label='Centroids' )\n",
    "plt.title('Clusters of tweets in culture and social groups')\n",
    "plt.xlabel('social tweets')\n",
    "plt.ylabel('culture tweets')\n",
    "plt.legend()\n",
    "plt.show()"
   ]
  },
  {
   "cell_type": "markdown",
   "metadata": {
    "papermill": {
     "duration": 0.102764,
     "end_time": "2020-12-15T00:43:36.848565",
     "exception": false,
     "start_time": "2020-12-15T00:43:36.745801",
     "status": "completed"
    },
    "tags": []
   },
   "source": [
    "\n",
    "* Sociol-Health"
   ]
  },
  {
   "cell_type": "code",
   "execution_count": 57,
   "metadata": {
    "execution": {
     "iopub.execute_input": "2020-12-15T00:43:37.064069Z",
     "iopub.status.busy": "2020-12-15T00:43:37.062956Z",
     "iopub.status.idle": "2020-12-15T00:43:38.399245Z",
     "shell.execute_reply": "2020-12-15T00:43:38.399796Z"
    },
    "papermill": {
     "duration": 1.448832,
     "end_time": "2020-12-15T00:43:38.399938",
     "exception": false,
     "start_time": "2020-12-15T00:43:36.951106",
     "status": "completed"
    },
    "tags": []
   },
   "outputs": [
    {
     "data": {
      "image/png": "[encoded data removed]",
      "text/plain": [
       "<Figure size 432x288 with 1 Axes>"
      ]
     },
     "metadata": {
      "needs_background": "light"
     },
     "output_type": "display_data"
    }
   ],
   "source": [
    "# X = pivot_clusters.iloc[:, [2,4]].values\n",
    "X = pivot_clusters[['social', 'health']].values\n",
    "\n",
    "# Elbow Method\n",
    "from sklearn.cluster import KMeans\n",
    "wcss = []\n",
    "for i in range(1, 11):\n",
    "    kmeans = KMeans(n_clusters=i, init='k-means++', n_init=10, max_iter=300, random_state=0)\n",
    "    kmeans.fit(X)\n",
    "    wcss.append(kmeans.inertia_)\n",
    "plt.plot(range(1,11), wcss)\n",
    "plt.title('Elbow Method')\n",
    "plt.xlabel('Number of Clusters')\n",
    "plt.ylabel('wcss')\n",
    "plt.show()"
   ]
  },
  {
   "cell_type": "code",
   "execution_count": 58,
   "metadata": {
    "execution": {
     "iopub.execute_input": "2020-12-15T00:43:38.619687Z",
     "iopub.status.busy": "2020-12-15T00:43:38.618528Z",
     "iopub.status.idle": "2020-12-15T00:43:39.094311Z",
     "shell.execute_reply": "2020-12-15T00:43:39.093567Z"
    },
    "papermill": {
     "duration": 0.590566,
     "end_time": "2020-12-15T00:43:39.094430",
     "exception": false,
     "start_time": "2020-12-15T00:43:38.503864",
     "status": "completed"
    },
    "tags": []
   },
   "outputs": [
    {
     "data": {
      "image/png": "[encoded data removed]",
      "text/plain": [
       "<Figure size 432x288 with 1 Axes>"
      ]
     },
     "metadata": {
      "needs_background": "light"
     },
     "output_type": "display_data"
    }
   ],
   "source": [
    "# fitting kmeans to dataset\n",
    "kmeans = KMeans(n_clusters=3, init='k-means++', n_init=10, max_iter=300, random_state=0)\n",
    "Y_kmeans = kmeans.fit_predict(X)\n",
    "\n",
    "# Visualising the clusters\n",
    "plt.scatter(X[Y_kmeans==0, 0], X[Y_kmeans==0, 1], s=100, c='violet', label= 'Cluster 1')\n",
    "plt.scatter(X[Y_kmeans==1, 0], X[Y_kmeans==1, 1], s=100, c='cyan', label= 'Cluster 2')\n",
    "plt.scatter(X[Y_kmeans==2, 0], X[Y_kmeans==2, 1], s=100, c='green', label= 'Cluster 3')\n",
    "# plt.scatter(X[Y_kmeans==3, 0], X[Y_kmeans==3, 1], s=100, c='blue', label= 'Cluster 4')\n",
    "# plt.scatter(X[Y_kmeans==4, 0], X[Y_kmeans==4, 1], s=100, c='magenta', label= 'Cluster 5')\n",
    "plt.scatter(kmeans.cluster_centers_[:, 0], kmeans.cluster_centers_[:, 1], s=100, c='black', label='Centroids' )\n",
    "plt.title('Clusters of tweets in health and social groups')\n",
    "plt.xlabel('social tweets')\n",
    "plt.ylabel('health tweets')\n",
    "plt.legend()\n",
    "plt.show()"
   ]
  },
  {
   "cell_type": "markdown",
   "metadata": {
    "papermill": {
     "duration": 0.103326,
     "end_time": "2020-12-15T00:43:39.300758",
     "exception": false,
     "start_time": "2020-12-15T00:43:39.197432",
     "status": "completed"
    },
    "tags": []
   },
   "source": [
    "\n",
    "* Economic-health"
   ]
  },
  {
   "cell_type": "code",
   "execution_count": 59,
   "metadata": {
    "execution": {
     "iopub.execute_input": "2020-12-15T00:43:39.517708Z",
     "iopub.status.busy": "2020-12-15T00:43:39.516981Z",
     "iopub.status.idle": "2020-12-15T00:43:40.768227Z",
     "shell.execute_reply": "2020-12-15T00:43:40.768820Z"
    },
    "papermill": {
     "duration": 1.364591,
     "end_time": "2020-12-15T00:43:40.769008",
     "exception": false,
     "start_time": "2020-12-15T00:43:39.404417",
     "status": "completed"
    },
    "tags": []
   },
   "outputs": [
    {
     "data": {
      "image/png": "[encoded data removed]",
      "text/plain": [
       "<Figure size 432x288 with 1 Axes>"
      ]
     },
     "metadata": {
      "needs_background": "light"
     },
     "output_type": "display_data"
    }
   ],
   "source": [
    "# X = pivot_clusters.iloc[:, [2,4]].values\n",
    "X = pivot_clusters[['economic', 'health']].values\n",
    "\n",
    "# Elbow Method\n",
    "from sklearn.cluster import KMeans\n",
    "wcss = []\n",
    "for i in range(1, 11):\n",
    "    kmeans = KMeans(n_clusters=i, init='k-means++', n_init=10, max_iter=300, random_state=0)\n",
    "    kmeans.fit(X)\n",
    "    wcss.append(kmeans.inertia_)\n",
    "plt.plot(range(1,11), wcss)\n",
    "plt.title('Elbow Method')\n",
    "plt.xlabel('Number of Clusters')\n",
    "plt.ylabel('wcss')\n",
    "plt.show()"
   ]
  },
  {
   "cell_type": "code",
   "execution_count": 60,
   "metadata": {
    "execution": {
     "iopub.execute_input": "2020-12-15T00:43:40.996576Z",
     "iopub.status.busy": "2020-12-15T00:43:40.995363Z",
     "iopub.status.idle": "2020-12-15T00:43:41.497528Z",
     "shell.execute_reply": "2020-12-15T00:43:41.496854Z"
    },
    "papermill": {
     "duration": 0.61995,
     "end_time": "2020-12-15T00:43:41.497644",
     "exception": false,
     "start_time": "2020-12-15T00:43:40.877694",
     "status": "completed"
    },
    "tags": []
   },
   "outputs": [
    {
     "data": {
      "image/png": "[encoded data removed]",
      "text/plain": [
       "<Figure size 432x288 with 1 Axes>"
      ]
     },
     "metadata": {
      "needs_background": "light"
     },
     "output_type": "display_data"
    }
   ],
   "source": [
    "# fitting kmeans to dataset\n",
    "kmeans = KMeans(n_clusters=4, init='k-means++', n_init=10, max_iter=300, random_state=0)\n",
    "Y_kmeans = kmeans.fit_predict(X)\n",
    "\n",
    "# Visualising the clusters\n",
    "plt.scatter(X[Y_kmeans==0, 0], X[Y_kmeans==0, 1], s=100, c='violet', label= 'Cluster 1')\n",
    "plt.scatter(X[Y_kmeans==1, 0], X[Y_kmeans==1, 1], s=100, c='cyan', label= 'Cluster 2')\n",
    "plt.scatter(X[Y_kmeans==2, 0], X[Y_kmeans==2, 1], s=100, c='green', label= 'Cluster 3')\n",
    "plt.scatter(X[Y_kmeans==3, 0], X[Y_kmeans==3, 1], s=100, c='blue', label= 'Cluster 4')\n",
    "#plt.scatter(X[Y_kmeans==4, 0], X[Y_kmeans==4, 1], s=100, c='magenta', label= 'Cluster 5')\n",
    "# plt.scatter(X[Y_kmeans==5, 0], X[Y_kmeans==5, 1], s=100, c='pink', label= 'Cluster 6')\n",
    "# plt.scatter(X[Y_kmeans==6, 0], X[Y_kmeans==6, 1], s=100, c='yellow', label= 'Cluster 7')\n",
    "plt.scatter(kmeans.cluster_centers_[:, 0], kmeans.cluster_centers_[:, 1], s=100, c='black', label='Centroids' )\n",
    "plt.title('Clusters of tweets in economic and health groups')\n",
    "plt.xlabel('economic tweets')\n",
    "plt.ylabel('health tweets')\n",
    "plt.legend()\n",
    "plt.show()"
   ]
  },
  {
   "cell_type": "markdown",
   "metadata": {
    "papermill": {
     "duration": 0.10519,
     "end_time": "2020-12-15T00:43:41.709336",
     "exception": false,
     "start_time": "2020-12-15T00:43:41.604146",
     "status": "completed"
    },
    "tags": []
   },
   "source": [
    "\n",
    "Economic-Culture"
   ]
  },
  {
   "cell_type": "code",
   "execution_count": 61,
   "metadata": {
    "execution": {
     "iopub.execute_input": "2020-12-15T00:43:41.934205Z",
     "iopub.status.busy": "2020-12-15T00:43:41.933536Z",
     "iopub.status.idle": "2020-12-15T00:43:43.095237Z",
     "shell.execute_reply": "2020-12-15T00:43:43.096244Z"
    },
    "papermill": {
     "duration": 1.279294,
     "end_time": "2020-12-15T00:43:43.096426",
     "exception": false,
     "start_time": "2020-12-15T00:43:41.817132",
     "status": "completed"
    },
    "tags": []
   },
   "outputs": [
    {
     "data": {
      "image/png": "[encoded data removed]",
      "text/plain": [
       "<Figure size 432x288 with 1 Axes>"
      ]
     },
     "metadata": {
      "needs_background": "light"
     },
     "output_type": "display_data"
    }
   ],
   "source": [
    "# X = pivot_clusters.iloc[:, [2,4]].values\n",
    "X = pivot_clusters[['economic', 'culture']].values\n",
    "\n",
    "# Elbow Method\n",
    "from sklearn.cluster import KMeans\n",
    "wcss = []\n",
    "for i in range(1, 11):\n",
    "    kmeans = KMeans(n_clusters=i, init='k-means++', n_init=10, max_iter=300, random_state=0)\n",
    "    kmeans.fit(X)\n",
    "    wcss.append(kmeans.inertia_)\n",
    "plt.plot(range(1,11), wcss)\n",
    "plt.title('Elbow Method')\n",
    "plt.xlabel('Number of Clusters')\n",
    "plt.ylabel('wcss')\n",
    "plt.show()"
   ]
  },
  {
   "cell_type": "code",
   "execution_count": 62,
   "metadata": {
    "execution": {
     "iopub.execute_input": "2020-12-15T00:43:43.330951Z",
     "iopub.status.busy": "2020-12-15T00:43:43.329798Z",
     "iopub.status.idle": "2020-12-15T00:43:43.892813Z",
     "shell.execute_reply": "2020-12-15T00:43:43.892255Z"
    },
    "papermill": {
     "duration": 0.683784,
     "end_time": "2020-12-15T00:43:43.892936",
     "exception": false,
     "start_time": "2020-12-15T00:43:43.209152",
     "status": "completed"
    },
    "tags": []
   },
   "outputs": [
    {
     "data": {
      "image/png": "[encoded data removed]",
      "text/plain": [
       "<Figure size 432x288 with 1 Axes>"
      ]
     },
     "metadata": {
      "needs_background": "light"
     },
     "output_type": "display_data"
    }
   ],
   "source": [
    "# fitting kmeans to dataset\n",
    "kmeans = KMeans(n_clusters=4, init='k-means++', n_init=10, max_iter=300, random_state=0)\n",
    "Y_kmeans = kmeans.fit_predict(X)\n",
    "\n",
    "# Visualising the clusters\n",
    "plt.scatter(X[Y_kmeans==0, 0], X[Y_kmeans==0, 1], s=100, c='violet', label= 'Cluster 1')\n",
    "plt.scatter(X[Y_kmeans==1, 0], X[Y_kmeans==1, 1], s=100, c='cyan', label= 'Cluster 2')\n",
    "plt.scatter(X[Y_kmeans==2, 0], X[Y_kmeans==2, 1], s=100, c='green', label= 'Cluster 3')\n",
    "plt.scatter(X[Y_kmeans==3, 0], X[Y_kmeans==3, 1], s=100, c='blue', label= 'Cluster 4')\n",
    "# plt.scatter(X[Y_kmeans==4, 0], X[Y_kmeans==4, 1], s=100, c='magenta', label= 'Cluster 5')\n",
    "# plt.scatter(X[Y_kmeans==5, 0], X[Y_kmeans==5, 1], s=100, c='pink', label= 'Cluster 6')\n",
    "plt.scatter(kmeans.cluster_centers_[:, 0], kmeans.cluster_centers_[:, 1], s=100, c='black', label='Centroids' )\n",
    "plt.title('Clusters of tweets in economic and culture groups')\n",
    "plt.xlabel('economic tweets')\n",
    "plt.ylabel('culture tweets')\n",
    "plt.legend()\n",
    "plt.show()"
   ]
  },
  {
   "cell_type": "markdown",
   "metadata": {
    "papermill": {
     "duration": 0.107034,
     "end_time": "2020-12-15T00:43:44.108696",
     "exception": false,
     "start_time": "2020-12-15T00:43:44.001662",
     "status": "completed"
    },
    "tags": []
   },
   "source": [
    "\n",
    "* Health-Culture"
   ]
  },
  {
   "cell_type": "code",
   "execution_count": 63,
   "metadata": {
    "execution": {
     "iopub.execute_input": "2020-12-15T00:43:44.326796Z",
     "iopub.status.busy": "2020-12-15T00:43:44.326112Z",
     "iopub.status.idle": "2020-12-15T00:43:45.552317Z",
     "shell.execute_reply": "2020-12-15T00:43:45.552922Z"
    },
    "papermill": {
     "duration": 1.336815,
     "end_time": "2020-12-15T00:43:45.553118",
     "exception": false,
     "start_time": "2020-12-15T00:43:44.216303",
     "status": "completed"
    },
    "tags": []
   },
   "outputs": [
    {
     "data": {
      "image/png": "[encoded data removed]",
      "text/plain": [
       "<Figure size 432x288 with 1 Axes>"
      ]
     },
     "metadata": {
      "needs_background": "light"
     },
     "output_type": "display_data"
    }
   ],
   "source": [
    "# X = pivot_clusters.iloc[:, [2,4]].values\n",
    "X = pivot_clusters[['health', 'culture',]].values\n",
    "\n",
    "# Elbow Method\n",
    "from sklearn.cluster import KMeans\n",
    "wcss = []\n",
    "for i in range(1, 11):\n",
    "    kmeans = KMeans(n_clusters=i, init='k-means++', n_init=10, max_iter=300, random_state=0)\n",
    "    kmeans.fit(X)\n",
    "    wcss.append(kmeans.inertia_)\n",
    "plt.plot(range(1,11), wcss)\n",
    "plt.title('Elbow Method')\n",
    "plt.xlabel('Number of Clusters')\n",
    "plt.ylabel('wcss')\n",
    "plt.show()"
   ]
  },
  {
   "cell_type": "code",
   "execution_count": 64,
   "metadata": {
    "execution": {
     "iopub.execute_input": "2020-12-15T00:43:45.787891Z",
     "iopub.status.busy": "2020-12-15T00:43:45.787190Z",
     "iopub.status.idle": "2020-12-15T00:43:46.280898Z",
     "shell.execute_reply": "2020-12-15T00:43:46.281365Z"
    },
    "papermill": {
     "duration": 0.617074,
     "end_time": "2020-12-15T00:43:46.281536",
     "exception": false,
     "start_time": "2020-12-15T00:43:45.664462",
     "status": "completed"
    },
    "tags": []
   },
   "outputs": [
    {
     "data": {
      "image/png": "[encoded data removed]",
      "text/plain": [
       "<Figure size 432x288 with 1 Axes>"
      ]
     },
     "metadata": {
      "needs_background": "light"
     },
     "output_type": "display_data"
    }
   ],
   "source": [
    "# fitting kmeans to dataset\n",
    "kmeans = KMeans(n_clusters=4, init='k-means++', n_init=10, max_iter=300, random_state=0)\n",
    "Y_kmeans = kmeans.fit_predict(X)\n",
    "\n",
    "# Visualising the clusters\n",
    "plt.scatter(X[Y_kmeans==0, 0], X[Y_kmeans==0, 1], s=70, c='violet', label= 'Cluster 1')\n",
    "plt.scatter(X[Y_kmeans==1, 0], X[Y_kmeans==1, 1], s=70, c='cyan', label= 'Cluster 2')\n",
    "plt.scatter(X[Y_kmeans==2, 0], X[Y_kmeans==2, 1], s=70, c='green', label= 'Cluster 3')\n",
    "plt.scatter(X[Y_kmeans==3, 0], X[Y_kmeans==3, 1], s=70, c='blue', label= 'Cluster 4')\n",
    "# plt.scatter(X[Y_kmeans==4, 0], X[Y_kmeans==4, 1], s=70, c='magenta', label= 'Cluster 5')\n",
    "# plt.scatter(X[Y_kmeans==5, 0], X[Y_kmeans==5, 1], s=100, c='pink', label= 'Cluster 6')\n",
    "# plt.scatter(X[Y_kmeans==6, 0], X[Y_kmeans==6, 1], s=100, c='yellow', label= 'Cluster 7')\n",
    "plt.scatter(kmeans.cluster_centers_[:, 0], kmeans.cluster_centers_[:, 1], s=100, c='black', label='Centroids' )\n",
    "plt.title('Clusters of tweets in culture and health groups')\n",
    "plt.xlabel('health tweets')\n",
    "plt.ylabel('culture tweets')\n",
    "plt.legend()\n",
    "plt.show()"
   ]
  },
  {
   "cell_type": "markdown",
   "metadata": {
    "papermill": {
     "duration": 0.108354,
     "end_time": "2020-12-15T00:43:46.498751",
     "exception": false,
     "start_time": "2020-12-15T00:43:46.390397",
     "status": "completed"
    },
    "tags": []
   },
   "source": [
    " * KMeans with PCA"
   ]
  },
  {
   "cell_type": "code",
   "execution_count": 65,
   "metadata": {
    "execution": {
     "iopub.execute_input": "2020-12-15T00:43:46.762997Z",
     "iopub.status.busy": "2020-12-15T00:43:46.762355Z",
     "iopub.status.idle": "2020-12-15T00:43:46.767244Z",
     "shell.execute_reply": "2020-12-15T00:43:46.766730Z"
    },
    "papermill": {
     "duration": 0.15979,
     "end_time": "2020-12-15T00:43:46.767358",
     "exception": false,
     "start_time": "2020-12-15T00:43:46.607568",
     "status": "completed"
    },
    "tags": []
   },
   "outputs": [],
   "source": [
    "from sklearn.decomposition import PCA"
   ]
  },
  {
   "cell_type": "code",
   "execution_count": 66,
   "metadata": {
    "execution": {
     "iopub.execute_input": "2020-12-15T00:43:46.992170Z",
     "iopub.status.busy": "2020-12-15T00:43:46.991418Z",
     "iopub.status.idle": "2020-12-15T00:43:47.038393Z",
     "shell.execute_reply": "2020-12-15T00:43:47.037839Z"
    },
    "papermill": {
     "duration": 0.162251,
     "end_time": "2020-12-15T00:43:47.038549",
     "exception": false,
     "start_time": "2020-12-15T00:43:46.876298",
     "status": "completed"
    },
    "tags": []
   },
   "outputs": [
    {
     "data": {
      "text/plain": [
       "PCA()"
      ]
     },
     "execution_count": 66,
     "metadata": {},
     "output_type": "execute_result"
    }
   ],
   "source": [
    "seg = pivot_clusters.copy()\n",
    "# seg = seg.drop\n",
    "\n",
    "pca = PCA()\n",
    "pca.fit(seg)"
   ]
  },
  {
   "cell_type": "code",
   "execution_count": 67,
   "metadata": {
    "execution": {
     "iopub.execute_input": "2020-12-15T00:43:47.273124Z",
     "iopub.status.busy": "2020-12-15T00:43:47.271340Z",
     "iopub.status.idle": "2020-12-15T00:43:47.275458Z",
     "shell.execute_reply": "2020-12-15T00:43:47.273801Z"
    },
    "papermill": {
     "duration": 0.122261,
     "end_time": "2020-12-15T00:43:47.275598",
     "exception": false,
     "start_time": "2020-12-15T00:43:47.153337",
     "status": "completed"
    },
    "tags": []
   },
   "outputs": [
    {
     "data": {
      "text/plain": [
       "array([6.82898659e-01, 2.54091813e-01, 5.51511842e-02, 7.85834381e-03,\n",
       "       8.16231143e-30, 4.40353682e-34, 7.29161197e-65])"
      ]
     },
     "execution_count": 67,
     "metadata": {},
     "output_type": "execute_result"
    }
   ],
   "source": [
    "pca.explained_variance_ratio_"
   ]
  },
  {
   "cell_type": "code",
   "execution_count": 68,
   "metadata": {
    "execution": {
     "iopub.execute_input": "2020-12-15T00:43:47.509742Z",
     "iopub.status.busy": "2020-12-15T00:43:47.508652Z",
     "iopub.status.idle": "2020-12-15T00:43:47.665459Z",
     "shell.execute_reply": "2020-12-15T00:43:47.666086Z"
    },
    "papermill": {
     "duration": 0.278912,
     "end_time": "2020-12-15T00:43:47.666235",
     "exception": false,
     "start_time": "2020-12-15T00:43:47.387323",
     "status": "completed"
    },
    "tags": []
   },
   "outputs": [
    {
     "data": {
      "text/plain": [
       "Text(0, 0.5, 'cummulative explained variance')"
      ]
     },
     "execution_count": 68,
     "metadata": {},
     "output_type": "execute_result"
    },
    {
     "data": {
      "image/png": "[encoded data removed]",
      "text/plain": [
       "<Figure size 576x432 with 1 Axes>"
      ]
     },
     "metadata": {
      "needs_background": "light"
     },
     "output_type": "display_data"
    }
   ],
   "source": [
    "plt.figure(figsize = (8,6))\n",
    "plt.plot(range(1,8), pca.explained_variance_ratio_.cumsum(), marker = 'o', linestyle = '--')\n",
    "plt.xlabel('components')\n",
    "plt.ylabel('cummulative explained variance')"
   ]
  },
  {
   "cell_type": "code",
   "execution_count": 69,
   "metadata": {
    "execution": {
     "iopub.execute_input": "2020-12-15T00:43:47.902392Z",
     "iopub.status.busy": "2020-12-15T00:43:47.901326Z",
     "iopub.status.idle": "2020-12-15T00:43:47.931734Z",
     "shell.execute_reply": "2020-12-15T00:43:47.932247Z"
    },
    "papermill": {
     "duration": 0.152497,
     "end_time": "2020-12-15T00:43:47.932389",
     "exception": false,
     "start_time": "2020-12-15T00:43:47.779892",
     "status": "completed"
    },
    "tags": []
   },
   "outputs": [
    {
     "data": {
      "text/plain": [
       "PCA(n_components=3)"
      ]
     },
     "execution_count": 69,
     "metadata": {},
     "output_type": "execute_result"
    }
   ],
   "source": [
    "pca = PCA(n_components = 3)\n",
    "pca.fit(seg)"
   ]
  },
  {
   "cell_type": "code",
   "execution_count": 70,
   "metadata": {
    "execution": {
     "iopub.execute_input": "2020-12-15T00:43:48.167548Z",
     "iopub.status.busy": "2020-12-15T00:43:48.166737Z",
     "iopub.status.idle": "2020-12-15T00:43:48.170326Z",
     "shell.execute_reply": "2020-12-15T00:43:48.169831Z"
    },
    "papermill": {
     "duration": 0.124056,
     "end_time": "2020-12-15T00:43:48.170437",
     "exception": false,
     "start_time": "2020-12-15T00:43:48.046381",
     "status": "completed"
    },
    "tags": []
   },
   "outputs": [],
   "source": [
    "scores = pca.transform(seg)"
   ]
  },
  {
   "cell_type": "code",
   "execution_count": 71,
   "metadata": {
    "execution": {
     "iopub.execute_input": "2020-12-15T00:43:48.407943Z",
     "iopub.status.busy": "2020-12-15T00:43:48.407093Z",
     "iopub.status.idle": "2020-12-15T00:43:50.835884Z",
     "shell.execute_reply": "2020-12-15T00:43:50.836878Z"
    },
    "papermill": {
     "duration": 2.551483,
     "end_time": "2020-12-15T00:43:50.837057",
     "exception": false,
     "start_time": "2020-12-15T00:43:48.285574",
     "status": "completed"
    },
    "tags": []
   },
   "outputs": [
    {
     "data": {
      "text/plain": [
       "Text(0, 0.5, 'wcss')"
      ]
     },
     "execution_count": 71,
     "metadata": {},
     "output_type": "execute_result"
    },
    {
     "data": {
      "image/png": "[encoded data removed]",
      "text/plain": [
       "<Figure size 432x288 with 1 Axes>"
      ]
     },
     "metadata": {
      "needs_background": "light"
     },
     "output_type": "display_data"
    }
   ],
   "source": [
    "# Elbow Method\n",
    "from sklearn.cluster import KMeans\n",
    "wcss = []\n",
    "for i in range(1, 15):\n",
    "    kmeans = KMeans(n_clusters=i, init='k-means++', n_init=10, max_iter=300, random_state=0)\n",
    "    kmeans.fit(scores)\n",
    "    wcss.append(kmeans.inertia_)\n",
    "plt.plot(range(1,15), wcss)\n",
    "plt.title('Elbow Method')\n",
    "plt.xlabel('KMeans with PCA clustering')\n",
    "plt.ylabel('wcss')"
   ]
  },
  {
   "cell_type": "code",
   "execution_count": 72,
   "metadata": {
    "execution": {
     "iopub.execute_input": "2020-12-15T00:43:51.073713Z",
     "iopub.status.busy": "2020-12-15T00:43:51.072663Z",
     "iopub.status.idle": "2020-12-15T00:43:51.210814Z",
     "shell.execute_reply": "2020-12-15T00:43:51.211457Z"
    },
    "papermill": {
     "duration": 0.257645,
     "end_time": "2020-12-15T00:43:51.211649",
     "exception": false,
     "start_time": "2020-12-15T00:43:50.954004",
     "status": "completed"
    },
    "tags": []
   },
   "outputs": [
    {
     "data": {
      "text/plain": [
       "KMeans(n_clusters=6, random_state=0)"
      ]
     },
     "execution_count": 72,
     "metadata": {},
     "output_type": "execute_result"
    }
   ],
   "source": [
    "n = 6\n",
    "kmeans_pca = KMeans(n_clusters = n, init = 'k-means++', random_state = 0)\n",
    "kmeans_pca.fit(scores)"
   ]
  },
  {
   "cell_type": "code",
   "execution_count": 73,
   "metadata": {
    "execution": {
     "iopub.execute_input": "2020-12-15T00:43:51.490933Z",
     "iopub.status.busy": "2020-12-15T00:43:51.489877Z",
     "iopub.status.idle": "2020-12-15T00:43:51.496157Z",
     "shell.execute_reply": "2020-12-15T00:43:51.495593Z"
    },
    "papermill": {
     "duration": 0.135952,
     "end_time": "2020-12-15T00:43:51.496267",
     "exception": false,
     "start_time": "2020-12-15T00:43:51.360315",
     "status": "completed"
    },
    "tags": []
   },
   "outputs": [],
   "source": [
    "c = pd.concat([seg.reset_index(drop = True), pd.DataFrame(scores)], axis = 1)\n",
    "c.columns.values[-2:] = ['component1', 'component2']\n",
    "c['segment_kmeans_pca'] = kmeans_pca.labels_"
   ]
  },
  {
   "cell_type": "code",
   "execution_count": 74,
   "metadata": {
    "execution": {
     "iopub.execute_input": "2020-12-15T00:43:51.746694Z",
     "iopub.status.busy": "2020-12-15T00:43:51.745653Z",
     "iopub.status.idle": "2020-12-15T00:43:51.750226Z",
     "shell.execute_reply": "2020-12-15T00:43:51.749678Z"
    },
    "papermill": {
     "duration": 0.138719,
     "end_time": "2020-12-15T00:43:51.750338",
     "exception": false,
     "start_time": "2020-12-15T00:43:51.611619",
     "status": "completed"
    },
    "tags": []
   },
   "outputs": [
    {
     "data": {
      "text/html": [
       "<div>\n",
       "<style scoped>\n",
       "    .dataframe tbody tr th:only-of-type {\n",
       "        vertical-align: middle;\n",
       "    }\n",
       "\n",
       "    .dataframe tbody tr th {\n",
       "        vertical-align: top;\n",
       "    }\n",
       "\n",
       "    .dataframe thead th {\n",
       "        text-align: right;\n",
       "    }\n",
       "</style>\n",
       "<table border=\"1\" class=\"dataframe\">\n",
       "  <thead>\n",
       "    <tr style=\"text-align: right;\">\n",
       "      <th></th>\n",
       "      <th>economic</th>\n",
       "      <th>social</th>\n",
       "      <th>culture</th>\n",
       "      <th>health</th>\n",
       "      <th>politics</th>\n",
       "      <th>sport</th>\n",
       "      <th>total</th>\n",
       "      <th>0</th>\n",
       "      <th>component1</th>\n",
       "      <th>component2</th>\n",
       "      <th>segment_kmeans_pca</th>\n",
       "    </tr>\n",
       "  </thead>\n",
       "  <tbody>\n",
       "    <tr>\n",
       "      <th>18079</th>\n",
       "      <td>0.333333</td>\n",
       "      <td>0.333333</td>\n",
       "      <td>0.333333</td>\n",
       "      <td>0.333333</td>\n",
       "      <td>0.333333</td>\n",
       "      <td>0.333333</td>\n",
       "      <td>2.0</td>\n",
       "      <td>0.431820</td>\n",
       "      <td>0.942153</td>\n",
       "      <td>-0.471136</td>\n",
       "      <td>4</td>\n",
       "    </tr>\n",
       "    <tr>\n",
       "      <th>18080</th>\n",
       "      <td>0.000000</td>\n",
       "      <td>0.000000</td>\n",
       "      <td>0.000000</td>\n",
       "      <td>1.000000</td>\n",
       "      <td>0.000000</td>\n",
       "      <td>0.000000</td>\n",
       "      <td>1.0</td>\n",
       "      <td>-0.126197</td>\n",
       "      <td>-0.269561</td>\n",
       "      <td>-0.009570</td>\n",
       "      <td>1</td>\n",
       "    </tr>\n",
       "    <tr>\n",
       "      <th>18081</th>\n",
       "      <td>0.333333</td>\n",
       "      <td>0.333333</td>\n",
       "      <td>0.333333</td>\n",
       "      <td>0.333333</td>\n",
       "      <td>0.333333</td>\n",
       "      <td>0.333333</td>\n",
       "      <td>2.0</td>\n",
       "      <td>0.431820</td>\n",
       "      <td>0.942153</td>\n",
       "      <td>-0.471136</td>\n",
       "      <td>4</td>\n",
       "    </tr>\n",
       "    <tr>\n",
       "      <th>18082</th>\n",
       "      <td>0.000000</td>\n",
       "      <td>0.000000</td>\n",
       "      <td>0.000000</td>\n",
       "      <td>1.000000</td>\n",
       "      <td>0.000000</td>\n",
       "      <td>0.000000</td>\n",
       "      <td>1.0</td>\n",
       "      <td>-0.126197</td>\n",
       "      <td>-0.269561</td>\n",
       "      <td>-0.009570</td>\n",
       "      <td>1</td>\n",
       "    </tr>\n",
       "    <tr>\n",
       "      <th>18083</th>\n",
       "      <td>0.000000</td>\n",
       "      <td>0.000000</td>\n",
       "      <td>0.000000</td>\n",
       "      <td>1.000000</td>\n",
       "      <td>0.000000</td>\n",
       "      <td>0.000000</td>\n",
       "      <td>1.0</td>\n",
       "      <td>-0.126197</td>\n",
       "      <td>-0.269561</td>\n",
       "      <td>-0.009570</td>\n",
       "      <td>1</td>\n",
       "    </tr>\n",
       "  </tbody>\n",
       "</table>\n",
       "</div>"
      ],
      "text/plain": [
       "       economic    social   culture    health  politics     sport  total  \\\n",
       "18079  0.333333  0.333333  0.333333  0.333333  0.333333  0.333333    2.0   \n",
       "18080  0.000000  0.000000  0.000000  1.000000  0.000000  0.000000    1.0   \n",
       "18081  0.333333  0.333333  0.333333  0.333333  0.333333  0.333333    2.0   \n",
       "18082  0.000000  0.000000  0.000000  1.000000  0.000000  0.000000    1.0   \n",
       "18083  0.000000  0.000000  0.000000  1.000000  0.000000  0.000000    1.0   \n",
       "\n",
       "              0  component1  component2  segment_kmeans_pca  \n",
       "18079  0.431820    0.942153   -0.471136                   4  \n",
       "18080 -0.126197   -0.269561   -0.009570                   1  \n",
       "18081  0.431820    0.942153   -0.471136                   4  \n",
       "18082 -0.126197   -0.269561   -0.009570                   1  \n",
       "18083 -0.126197   -0.269561   -0.009570                   1  "
      ]
     },
     "execution_count": 74,
     "metadata": {},
     "output_type": "execute_result"
    }
   ],
   "source": [
    "c.tail()"
   ]
  },
  {
   "cell_type": "code",
   "execution_count": 75,
   "metadata": {
    "execution": {
     "iopub.execute_input": "2020-12-15T00:43:51.993002Z",
     "iopub.status.busy": "2020-12-15T00:43:51.992032Z",
     "iopub.status.idle": "2020-12-15T00:43:52.704359Z",
     "shell.execute_reply": "2020-12-15T00:43:52.705015Z"
    },
    "papermill": {
     "duration": 0.836336,
     "end_time": "2020-12-15T00:43:52.705165",
     "exception": false,
     "start_time": "2020-12-15T00:43:51.868829",
     "status": "completed"
    },
    "tags": []
   },
   "outputs": [
    {
     "data": {
      "text/plain": [
       "Text(0.5, 1.0, 'Clusters by PCA')"
      ]
     },
     "execution_count": 75,
     "metadata": {},
     "output_type": "execute_result"
    },
    {
     "data": {
      "image/png": "[encoded data removed]",
      "text/plain": [
       "<Figure size 720x576 with 1 Axes>"
      ]
     },
     "metadata": {
      "needs_background": "light"
     },
     "output_type": "display_data"
    }
   ],
   "source": [
    "plt.figure(figsize = (10,8))\n",
    "sns.scatterplot(x = c['component1'], y = c['component2'], hue = c['segment_kmeans_pca'], palette=sns.color_palette('coolwarm', n_colors=6),legend=\"brief\")\n",
    "plt.title('Clusters by PCA')\n"
   ]
  }
 ],
 "metadata": {
  "kernelspec": {
   "display_name": "Python 3",
   "language": "python",
   "name": "python3"
  },
  "language_info": {
   "codemirror_mode": {
    "name": "ipython",
    "version": 3
   },
   "file_extension": ".py",
   "mimetype": "text/x-python",
   "name": "python",
   "nbconvert_exporter": "python",
   "pygments_lexer": "ipython3",
   "version": "3.7.6"
  },
  "papermill": {
   "duration": 68.309669,
   "end_time": "2020-12-15T00:43:52.930625",
   "environment_variables": {},
   "exception": null,
   "input_path": "__notebook__.ipynb",
   "output_path": "__notebook__.ipynb",
   "parameters": {},
   "start_time": "2020-12-15T00:42:44.620956",
   "version": "2.1.0"
  }
 },
 "nbformat": 4,
 "nbformat_minor": 4
}
